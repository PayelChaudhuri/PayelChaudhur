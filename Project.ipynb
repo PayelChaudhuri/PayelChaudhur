{
  "nbformat": 4,
  "nbformat_minor": 0,
  "metadata": {
    "colab": {
      "provenance": [],
      "authorship_tag": "ABX9TyNYNRBhuclRaqiLxLACG8jm",
      "include_colab_link": true
    },
    "kernelspec": {
      "name": "python3",
      "display_name": "Python 3"
    },
    "language_info": {
      "name": "python"
    }
  },
  "cells": [
    {
      "cell_type": "markdown",
      "metadata": {
        "id": "view-in-github",
        "colab_type": "text"
      },
      "source": [
        "<a href=\"https://colab.research.google.com/github/PayelChaudhuri/PayelChaudhuri/blob/main/Project.ipynb\" target=\"_parent\"><img src=\"https://colab.research.google.com/assets/colab-badge.svg\" alt=\"Open In Colab\"/></a>"
      ]
    },
    {
      "cell_type": "code",
      "source": [
        "!git clone https://github.com/CMU-MultiComp-Lab/CMU-MultimodalSDK.git\n",
        "%cd CMU-MultimodalSDK\n"
      ],
      "metadata": {
        "colab": {
          "base_uri": "https://localhost:8080/"
        },
        "id": "iDTw1R1ffbQh",
        "outputId": "95d0a2f7-7a63-45e5-a4e4-4f9f86a71f83"
      },
      "execution_count": null,
      "outputs": [
        {
          "output_type": "stream",
          "name": "stdout",
          "text": [
            "Cloning into 'CMU-MultimodalSDK'...\n",
            "remote: Enumerating objects: 100, done.\u001b[K\n",
            "remote: Counting objects: 100% (100/100), done.\u001b[K\n",
            "remote: Compressing objects: 100% (82/82), done.\u001b[K\n",
            "remote: Total 100 (delta 13), reused 94 (delta 11), pack-reused 0\u001b[K\n",
            "Receiving objects: 100% (100/100), 294.05 KiB | 1.92 MiB/s, done.\n",
            "Resolving deltas: 100% (13/13), done.\n",
            "/content/MISA/MISA/CMU-MultimodalSDK/CMU-MultimodalSDK\n"
          ]
        }
      ]
    },
    {
      "cell_type": "code",
      "source": [
        "!pip install -r requirements.txt\n",
        "!pip install cmu-multimodal-sdk\n"
      ],
      "metadata": {
        "colab": {
          "base_uri": "https://localhost:8080/"
        },
        "id": "mrTyiVqNff7H",
        "outputId": "313b4234-eeb7-448b-bb6b-ca120e8d96ec"
      },
      "execution_count": null,
      "outputs": [
        {
          "output_type": "stream",
          "name": "stdout",
          "text": [
            "Requirement already satisfied: numpy>=1.26.2 in /usr/local/lib/python3.10/dist-packages (from -r requirements.txt (line 1)) (1.26.4)\n",
            "Requirement already satisfied: h5py>=3.10.0 in /usr/local/lib/python3.10/dist-packages (from -r requirements.txt (line 2)) (3.11.0)\n",
            "Requirement already satisfied: validators>=0.22.0 in /usr/local/lib/python3.10/dist-packages (from -r requirements.txt (line 3)) (0.33.0)\n",
            "Requirement already satisfied: tqdm>=4.66.1 in /usr/local/lib/python3.10/dist-packages (from -r requirements.txt (line 4)) (4.66.4)\n",
            "Requirement already satisfied: colorama>=0.4.6 in /usr/local/lib/python3.10/dist-packages (from -r requirements.txt (line 5)) (0.4.6)\n",
            "Requirement already satisfied: cmu-multimodal-sdk in /usr/local/lib/python3.10/dist-packages (0.0.6)\n",
            "Requirement already satisfied: numpy>=1.17.0 in /usr/local/lib/python3.10/dist-packages (from cmu-multimodal-sdk) (1.26.4)\n",
            "Requirement already satisfied: requests>=2.22.0 in /usr/local/lib/python3.10/dist-packages (from cmu-multimodal-sdk) (2.31.0)\n",
            "Requirement already satisfied: validators>=0.13.0 in /usr/local/lib/python3.10/dist-packages (from cmu-multimodal-sdk) (0.33.0)\n",
            "Requirement already satisfied: h5py>=2.9.0 in /usr/local/lib/python3.10/dist-packages (from cmu-multimodal-sdk) (3.11.0)\n",
            "Requirement already satisfied: tqdm>=4.33.0 in /usr/local/lib/python3.10/dist-packages (from cmu-multimodal-sdk) (4.66.4)\n",
            "Requirement already satisfied: setuptools>=41.0.1 in /usr/local/lib/python3.10/dist-packages (from cmu-multimodal-sdk) (71.0.4)\n",
            "Requirement already satisfied: six>=1.12.0 in /usr/local/lib/python3.10/dist-packages (from cmu-multimodal-sdk) (1.16.0)\n",
            "Requirement already satisfied: charset-normalizer<4,>=2 in /usr/local/lib/python3.10/dist-packages (from requests>=2.22.0->cmu-multimodal-sdk) (3.3.2)\n",
            "Requirement already satisfied: idna<4,>=2.5 in /usr/local/lib/python3.10/dist-packages (from requests>=2.22.0->cmu-multimodal-sdk) (3.7)\n",
            "Requirement already satisfied: urllib3<3,>=1.21.1 in /usr/local/lib/python3.10/dist-packages (from requests>=2.22.0->cmu-multimodal-sdk) (2.0.7)\n",
            "Requirement already satisfied: certifi>=2017.4.17 in /usr/local/lib/python3.10/dist-packages (from requests>=2.22.0->cmu-multimodal-sdk) (2024.7.4)\n"
          ]
        }
      ]
    },
    {
      "cell_type": "code",
      "source": [
        "from mmsdk import mmdatasdk\n",
        "import os\n",
        "\n",
        "# Define paths\n",
        "DATA_PATH = './data/'\n",
        "if not os.path.exists(DATA_PATH):\n",
        "    os.makedirs(DATA_PATH)\n",
        "\n",
        "# Download the MOSI dataset\n",
        "mosi_highlevel = mmdatasdk.mmdataset(mmdatasdk.cmu_mosi.highlevel, DATA_PATH)\n",
        "mosi_raw = mmdatasdk.mmdataset(mmdatasdk.cmu_mosi.raw, DATA_PATH)\n"
      ],
      "metadata": {
        "colab": {
          "base_uri": "https://localhost:8080/"
        },
        "id": "9h3UIX49fkKp",
        "outputId": "3614de28-6d55-4ddc-84ff-be009d3269cd"
      },
      "execution_count": null,
      "outputs": [
        {
          "output_type": "stream",
          "name": "stdout",
          "text": [
            "\u001b[94m\u001b[1m[2024-08-01 19:50:29.660] | Status  | \u001b[0mDownloading from http://immortal.multicomp.cs.cmu.edu/CMU-MOSI/language/CMU_MOSI_TimestampedWordVectors.csd to ./data/CMU_MOSI_TimestampedWordVectors.csd...\n"
          ]
        },
        {
          "output_type": "stream",
          "name": "stderr",
          "text": []
        },
        {
          "output_type": "stream",
          "name": "stdout",
          "text": [
            "\u001b[92m\u001b[1m[2024-08-01 19:50:42.364] | Success | \u001b[0mDownload complete!\n",
            "\u001b[92m\u001b[1m[2024-08-01 19:50:42.366] | Success | \u001b[0mComputational sequence read from file ./data/CMU_MOSI_TimestampedWordVectors.csd ...\n",
            "\u001b[94m\u001b[1m[2024-08-01 19:50:42.375] | Status  | \u001b[0mChecking the integrity of the <glove_vectors> computational sequence ...\n",
            "\u001b[94m\u001b[1m[2024-08-01 19:50:42.375] | Status  | \u001b[0mChecking the format of the data in <glove_vectors> computational sequence ...\n"
          ]
        },
        {
          "output_type": "stream",
          "name": "stderr",
          "text": []
        },
        {
          "output_type": "stream",
          "name": "stdout",
          "text": [
            "\u001b[92m\u001b[1m[2024-08-01 19:50:42.432] | Success | \u001b[0m<glove_vectors> computational sequence data in correct format.\n",
            "\u001b[94m\u001b[1m[2024-08-01 19:50:42.433] | Status  | \u001b[0mChecking the format of the metadata in <glove_vectors> computational sequence ...\n",
            "\u001b[93m\u001b[1m[2024-08-01 19:50:42.433] | Warning | \u001b[0m<glove_vectors> computational sequence does not have all the required metadata ... continuing \n",
            "\u001b[94m\u001b[1m[2024-08-01 19:50:42.804] | Status  | \u001b[0mDownloading from http://immortal.multicomp.cs.cmu.edu/CMU-MOSI/visual/CMU_MOSI_Visual_Facet_41.csd to ./data/CMU_MOSI_Visual_Facet_41.csd...\n"
          ]
        },
        {
          "output_type": "stream",
          "name": "stderr",
          "text": []
        },
        {
          "output_type": "stream",
          "name": "stdout",
          "text": [
            "\u001b[92m\u001b[1m[2024-08-01 19:50:57.445] | Success | \u001b[0mDownload complete!\n",
            "\u001b[92m\u001b[1m[2024-08-01 19:50:57.447] | Success | \u001b[0mComputational sequence read from file ./data/CMU_MOSI_Visual_Facet_41.csd ...\n",
            "\u001b[94m\u001b[1m[2024-08-01 19:50:57.465] | Status  | \u001b[0mChecking the integrity of the <FACET_4.1> computational sequence ...\n",
            "\u001b[94m\u001b[1m[2024-08-01 19:50:57.466] | Status  | \u001b[0mChecking the format of the data in <FACET_4.1> computational sequence ...\n"
          ]
        },
        {
          "output_type": "stream",
          "name": "stderr",
          "text": []
        },
        {
          "output_type": "stream",
          "name": "stdout",
          "text": [
            "\u001b[92m\u001b[1m[2024-08-01 19:50:57.533] | Success | \u001b[0m<FACET_4.1> computational sequence data in correct format.\n",
            "\u001b[94m\u001b[1m[2024-08-01 19:50:57.534] | Status  | \u001b[0mChecking the format of the metadata in <FACET_4.1> computational sequence ...\n",
            "\u001b[93m\u001b[1m[2024-08-01 19:50:57.535] | Warning | \u001b[0m<FACET_4.1> computational sequence does not have all the required metadata ... continuing \n",
            "\u001b[94m\u001b[1m[2024-08-01 19:50:57.906] | Status  | \u001b[0mDownloading from http://immortal.multicomp.cs.cmu.edu/CMU-MOSI/visual/CMU_MOSI_Visual_Facet_42.csd to ./data/CMU_MOSI_Visual_Facet_42.csd...\n"
          ]
        },
        {
          "output_type": "stream",
          "name": "stderr",
          "text": []
        },
        {
          "output_type": "stream",
          "name": "stdout",
          "text": [
            "\u001b[92m\u001b[1m[2024-08-01 19:51:09.103] | Success | \u001b[0mDownload complete!\n",
            "\u001b[92m\u001b[1m[2024-08-01 19:51:09.105] | Success | \u001b[0mComputational sequence read from file ./data/CMU_MOSI_Visual_Facet_42.csd ...\n",
            "\u001b[94m\u001b[1m[2024-08-01 19:51:09.113] | Status  | \u001b[0mChecking the integrity of the <FACET_4.2> computational sequence ...\n",
            "\u001b[94m\u001b[1m[2024-08-01 19:51:09.113] | Status  | \u001b[0mChecking the format of the data in <FACET_4.2> computational sequence ...\n"
          ]
        },
        {
          "output_type": "stream",
          "name": "stderr",
          "text": []
        },
        {
          "output_type": "stream",
          "name": "stdout",
          "text": [
            "\u001b[92m\u001b[1m[2024-08-01 19:51:09.161] | Success | \u001b[0m<FACET_4.2> computational sequence data in correct format.\n",
            "\u001b[94m\u001b[1m[2024-08-01 19:51:09.161] | Status  | \u001b[0mChecking the format of the metadata in <FACET_4.2> computational sequence ...\n",
            "\u001b[93m\u001b[1m[2024-08-01 19:51:09.161] | Warning | \u001b[0m<FACET_4.2> computational sequence does not have all the required metadata ... continuing \n",
            "\u001b[94m\u001b[1m[2024-08-01 19:51:09.750] | Status  | \u001b[0mDownloading from http://immortal.multicomp.cs.cmu.edu/CMU-MOSI/acoustic/CMU_MOSI_OpenSmile_EB10.csd to ./data/CMU_MOSI_OpenSmile_EB10.csd...\n"
          ]
        },
        {
          "output_type": "stream",
          "name": "stderr",
          "text": []
        },
        {
          "output_type": "stream",
          "name": "stdout",
          "text": [
            "\u001b[92m\u001b[1m[2024-08-01 19:51:13.107] | Success | \u001b[0mDownload complete!\n",
            "\u001b[92m\u001b[1m[2024-08-01 19:51:13.109] | Success | \u001b[0mComputational sequence read from file ./data/CMU_MOSI_OpenSmile_EB10.csd ...\n",
            "\u001b[94m\u001b[1m[2024-08-01 19:51:13.121] | Status  | \u001b[0mChecking the integrity of the <OpenSmile_emobase2010> computational sequence ...\n",
            "\u001b[94m\u001b[1m[2024-08-01 19:51:13.122] | Status  | \u001b[0mChecking the format of the data in <OpenSmile_emobase2010> computational sequence ...\n"
          ]
        },
        {
          "output_type": "stream",
          "name": "stderr",
          "text": []
        },
        {
          "output_type": "stream",
          "name": "stdout",
          "text": [
            "\u001b[92m\u001b[1m[2024-08-01 19:51:13.204] | Success | \u001b[0m<OpenSmile_emobase2010> computational sequence data in correct format.\n",
            "\u001b[94m\u001b[1m[2024-08-01 19:51:13.205] | Status  | \u001b[0mChecking the format of the metadata in <OpenSmile_emobase2010> computational sequence ...\n",
            "\u001b[93m\u001b[1m[2024-08-01 19:51:13.205] | Warning | \u001b[0m<OpenSmile_emobase2010> computational sequence does not have all the required metadata ... continuing \n",
            "\u001b[94m\u001b[1m[2024-08-01 19:51:13.578] | Status  | \u001b[0mDownloading from http://immortal.multicomp.cs.cmu.edu/CMU-MOSI/acoustic/CMU_MOSI_openSMILE_IS09.csd to ./data/CMU_MOSI_openSMILE_IS09.csd...\n"
          ]
        },
        {
          "output_type": "stream",
          "name": "stderr",
          "text": []
        },
        {
          "output_type": "stream",
          "name": "stdout",
          "text": [
            "\u001b[92m\u001b[1m[2024-08-01 19:52:41.014] | Success | \u001b[0mDownload complete!\n",
            "\u001b[92m\u001b[1m[2024-08-01 19:52:41.017] | Success | \u001b[0mComputational sequence read from file ./data/CMU_MOSI_openSMILE_IS09.csd ...\n",
            "\u001b[94m\u001b[1m[2024-08-01 19:52:41.027] | Status  | \u001b[0mChecking the integrity of the <b'OpenSMILE'> computational sequence ...\n",
            "\u001b[94m\u001b[1m[2024-08-01 19:52:41.027] | Status  | \u001b[0mChecking the format of the data in <b'OpenSMILE'> computational sequence ...\n"
          ]
        },
        {
          "output_type": "stream",
          "name": "stderr",
          "text": []
        },
        {
          "output_type": "stream",
          "name": "stdout",
          "text": [
            "\u001b[92m\u001b[1m[2024-08-01 19:52:41.096] | Success | \u001b[0m<b'OpenSMILE'> computational sequence data in correct format.\n",
            "\u001b[94m\u001b[1m[2024-08-01 19:52:41.098] | Status  | \u001b[0mChecking the format of the metadata in <b'OpenSMILE'> computational sequence ...\n",
            "\u001b[93m\u001b[1m[2024-08-01 19:52:41.098] | Warning | \u001b[0m<b'OpenSMILE'> computational sequence does not have all the required metadata ... continuing \n",
            "\u001b[94m\u001b[1m[2024-08-01 19:52:41.884] | Status  | \u001b[0mDownloading from http://immortal.multicomp.cs.cmu.edu/CMU-MOSI/visual/CMU_MOSI_Visual_OpenFace_1.csd to ./data/CMU_MOSI_Visual_OpenFace_1.csd...\n"
          ]
        },
        {
          "output_type": "stream",
          "name": "stderr",
          "text": []
        },
        {
          "output_type": "stream",
          "name": "stdout",
          "text": [
            "\u001b[92m\u001b[1m[2024-08-01 19:54:51.227] | Success | \u001b[0mDownload complete!\n",
            "\u001b[92m\u001b[1m[2024-08-01 19:54:51.233] | Success | \u001b[0mComputational sequence read from file ./data/CMU_MOSI_Visual_OpenFace_1.csd ...\n",
            "\u001b[94m\u001b[1m[2024-08-01 19:54:51.246] | Status  | \u001b[0mChecking the integrity of the <OpenFace_1> computational sequence ...\n",
            "\u001b[94m\u001b[1m[2024-08-01 19:54:51.246] | Status  | \u001b[0mChecking the format of the data in <OpenFace_1> computational sequence ...\n"
          ]
        },
        {
          "output_type": "stream",
          "name": "stderr",
          "text": []
        },
        {
          "output_type": "stream",
          "name": "stdout",
          "text": [
            "\u001b[92m\u001b[1m[2024-08-01 19:54:51.297] | Success | \u001b[0m<OpenFace_1> computational sequence data in correct format.\n",
            "\u001b[94m\u001b[1m[2024-08-01 19:54:51.297] | Status  | \u001b[0mChecking the format of the metadata in <OpenFace_1> computational sequence ...\n",
            "\u001b[93m\u001b[1m[2024-08-01 19:54:51.297] | Warning | \u001b[0m<OpenFace_1> computational sequence does not have all the required metadata ... continuing \n",
            "\u001b[94m\u001b[1m[2024-08-01 19:54:51.674] | Status  | \u001b[0mDownloading from http://immortal.multicomp.cs.cmu.edu/CMU-MOSI/visual/CMU_MOSI_Visual_OpenFace_2.csd to ./data/CMU_MOSI_Visual_OpenFace_2.csd...\n"
          ]
        },
        {
          "output_type": "stream",
          "name": "stderr",
          "text": []
        },
        {
          "output_type": "stream",
          "name": "stdout",
          "text": [
            "\u001b[92m\u001b[1m[2024-08-01 19:56:39.928] | Success | \u001b[0mDownload complete!\n",
            "\u001b[92m\u001b[1m[2024-08-01 19:56:39.932] | Success | \u001b[0mComputational sequence read from file ./data/CMU_MOSI_Visual_OpenFace_2.csd ...\n",
            "\u001b[94m\u001b[1m[2024-08-01 19:56:39.946] | Status  | \u001b[0mChecking the integrity of the <OpenFace_2> computational sequence ...\n",
            "\u001b[94m\u001b[1m[2024-08-01 19:56:39.946] | Status  | \u001b[0mChecking the format of the data in <OpenFace_2> computational sequence ...\n"
          ]
        },
        {
          "output_type": "stream",
          "name": "stderr",
          "text": []
        },
        {
          "output_type": "stream",
          "name": "stdout",
          "text": [
            "\u001b[92m\u001b[1m[2024-08-01 19:56:39.999] | Success | \u001b[0m<OpenFace_2> computational sequence data in correct format.\n",
            "\u001b[94m\u001b[1m[2024-08-01 19:56:39.999] | Status  | \u001b[0mChecking the format of the metadata in <OpenFace_2> computational sequence ...\n",
            "\u001b[93m\u001b[1m[2024-08-01 19:56:39.999] | Warning | \u001b[0m<OpenFace_2> computational sequence does not have all the required metadata ... continuing \n",
            "\u001b[94m\u001b[1m[2024-08-01 19:56:40.739] | Status  | \u001b[0mDownloading from http://immortal.multicomp.cs.cmu.edu/CMU-MOSI/acoustic/CMU_MOSI_COVAREP.csd to ./data/CMU_MOSI_COVAREP.csd...\n"
          ]
        },
        {
          "output_type": "stream",
          "name": "stderr",
          "text": []
        },
        {
          "output_type": "stream",
          "name": "stdout",
          "text": [
            "\u001b[92m\u001b[1m[2024-08-01 19:57:51.597] | Success | \u001b[0mDownload complete!\n",
            "\u001b[92m\u001b[1m[2024-08-01 19:57:51.602] | Success | \u001b[0mComputational sequence read from file ./data/CMU_MOSI_COVAREP.csd ...\n",
            "\u001b[94m\u001b[1m[2024-08-01 19:57:51.615] | Status  | \u001b[0mChecking the integrity of the <COVAREP> computational sequence ...\n",
            "\u001b[94m\u001b[1m[2024-08-01 19:57:51.615] | Status  | \u001b[0mChecking the format of the data in <COVAREP> computational sequence ...\n"
          ]
        },
        {
          "output_type": "stream",
          "name": "stderr",
          "text": []
        },
        {
          "output_type": "stream",
          "name": "stdout",
          "text": [
            "\u001b[92m\u001b[1m[2024-08-01 19:57:51.672] | Success | \u001b[0m<COVAREP> computational sequence data in correct format.\n",
            "\u001b[94m\u001b[1m[2024-08-01 19:57:51.672] | Status  | \u001b[0mChecking the format of the metadata in <COVAREP> computational sequence ...\n",
            "\u001b[93m\u001b[1m[2024-08-01 19:57:51.672] | Warning | \u001b[0m<COVAREP> computational sequence does not have all the required metadata ... continuing \n",
            "\u001b[92m\u001b[1m[2024-08-01 19:57:51.672] | Success | \u001b[0mDataset initialized successfully ... \n",
            "\u001b[94m\u001b[1m[2024-08-01 19:57:52.085] | Status  | \u001b[0mDownloading from http://immortal.multicomp.cs.cmu.edu/CMU-MOSI/language/CMU_MOSI_TimestampedWords.csd to ./data/CMU_MOSI_TimestampedWords.csd...\n"
          ]
        },
        {
          "output_type": "stream",
          "name": "stderr",
          "text": []
        },
        {
          "output_type": "stream",
          "name": "stdout",
          "text": [
            "\u001b[92m\u001b[1m[2024-08-01 19:57:53.385] | Success | \u001b[0mDownload complete!\n",
            "\u001b[92m\u001b[1m[2024-08-01 19:57:53.387] | Success | \u001b[0mComputational sequence read from file ./data/CMU_MOSI_TimestampedWords.csd ...\n",
            "\u001b[94m\u001b[1m[2024-08-01 19:57:53.396] | Status  | \u001b[0mChecking the integrity of the <words> computational sequence ...\n",
            "\u001b[94m\u001b[1m[2024-08-01 19:57:53.396] | Status  | \u001b[0mChecking the format of the data in <words> computational sequence ...\n"
          ]
        },
        {
          "output_type": "stream",
          "name": "stderr",
          "text": []
        },
        {
          "output_type": "stream",
          "name": "stdout",
          "text": [
            "\u001b[92m\u001b[1m[2024-08-01 19:57:53.447] | Success | \u001b[0m<words> computational sequence data in correct format.\n",
            "\u001b[94m\u001b[1m[2024-08-01 19:57:53.447] | Status  | \u001b[0mChecking the format of the metadata in <words> computational sequence ...\n",
            "\u001b[93m\u001b[1m[2024-08-01 19:57:53.447] | Warning | \u001b[0m<words> computational sequence does not have all the required metadata ... continuing \n",
            "\u001b[94m\u001b[1m[2024-08-01 19:57:54.348] | Status  | \u001b[0mDownloading from http://immortal.multicomp.cs.cmu.edu/CMU-MOSI/language/CMU_MOSI_TimestampedPhones.csd to ./data/CMU_MOSI_TimestampedPhones.csd...\n"
          ]
        },
        {
          "output_type": "stream",
          "name": "stderr",
          "text": []
        },
        {
          "output_type": "stream",
          "name": "stdout",
          "text": [
            "\u001b[92m\u001b[1m[2024-08-01 19:57:55.815] | Success | \u001b[0mDownload complete!\n",
            "\u001b[92m\u001b[1m[2024-08-01 19:57:55.817] | Success | \u001b[0mComputational sequence read from file ./data/CMU_MOSI_TimestampedPhones.csd ...\n",
            "\u001b[94m\u001b[1m[2024-08-01 19:57:55.828] | Status  | \u001b[0mChecking the integrity of the <phoneme> computational sequence ...\n",
            "\u001b[94m\u001b[1m[2024-08-01 19:57:55.828] | Status  | \u001b[0mChecking the format of the data in <phoneme> computational sequence ...\n"
          ]
        },
        {
          "output_type": "stream",
          "name": "stderr",
          "text": [
            "                                                                   "
          ]
        },
        {
          "output_type": "stream",
          "name": "stdout",
          "text": [
            "\u001b[92m\u001b[1m[2024-08-01 19:57:55.876] | Success | \u001b[0m<phoneme> computational sequence data in correct format.\n",
            "\u001b[94m\u001b[1m[2024-08-01 19:57:55.876] | Status  | \u001b[0mChecking the format of the metadata in <phoneme> computational sequence ...\n",
            "\u001b[93m\u001b[1m[2024-08-01 19:57:55.876] | Warning | \u001b[0m<phoneme> computational sequence does not have all the required metadata ... continuing \n",
            "\u001b[92m\u001b[1m[2024-08-01 19:57:55.876] | Success | \u001b[0mDataset initialized successfully ... \n"
          ]
        },
        {
          "output_type": "stream",
          "name": "stderr",
          "text": [
            "\r"
          ]
        }
      ]
    },
    {
      "cell_type": "code",
      "source": [
        "cmumosi_highlevel=mmdatasdk.mmdataset(mmdatasdk.cmu_mosi.highlevel,'cmumosi/')"
      ],
      "metadata": {
        "id": "ftZuN7aBeiFt",
        "colab": {
          "base_uri": "https://localhost:8080/"
        },
        "outputId": "9878a51f-485d-49c4-df2c-4cfa86ba0195"
      },
      "execution_count": null,
      "outputs": [
        {
          "output_type": "stream",
          "name": "stdout",
          "text": [
            "\u001b[94m\u001b[1m[2024-08-01 20:05:01.955] | Status  | \u001b[0mDownloading from http://immortal.multicomp.cs.cmu.edu/CMU-MOSI/language/CMU_MOSI_TimestampedWordVectors.csd to cmumosi/CMU_MOSI_TimestampedWordVectors.csd...\n"
          ]
        },
        {
          "output_type": "stream",
          "name": "stderr",
          "text": []
        },
        {
          "output_type": "stream",
          "name": "stdout",
          "text": [
            "\u001b[92m\u001b[1m[2024-08-01 20:05:16.050] | Success | \u001b[0mDownload complete!\n",
            "\u001b[92m\u001b[1m[2024-08-01 20:05:16.052] | Success | \u001b[0mComputational sequence read from file cmumosi/CMU_MOSI_TimestampedWordVectors.csd ...\n",
            "\u001b[94m\u001b[1m[2024-08-01 20:05:16.070] | Status  | \u001b[0mChecking the integrity of the <glove_vectors> computational sequence ...\n",
            "\u001b[94m\u001b[1m[2024-08-01 20:05:16.070] | Status  | \u001b[0mChecking the format of the data in <glove_vectors> computational sequence ...\n"
          ]
        },
        {
          "output_type": "stream",
          "name": "stderr",
          "text": []
        },
        {
          "output_type": "stream",
          "name": "stdout",
          "text": [
            "\u001b[92m\u001b[1m[2024-08-01 20:05:16.135] | Success | \u001b[0m<glove_vectors> computational sequence data in correct format.\n",
            "\u001b[94m\u001b[1m[2024-08-01 20:05:16.135] | Status  | \u001b[0mChecking the format of the metadata in <glove_vectors> computational sequence ...\n",
            "\u001b[93m\u001b[1m[2024-08-01 20:05:16.135] | Warning | \u001b[0m<glove_vectors> computational sequence does not have all the required metadata ... continuing \n",
            "\u001b[94m\u001b[1m[2024-08-01 20:05:16.508] | Status  | \u001b[0mDownloading from http://immortal.multicomp.cs.cmu.edu/CMU-MOSI/visual/CMU_MOSI_Visual_Facet_41.csd to cmumosi/CMU_MOSI_Visual_Facet_41.csd...\n"
          ]
        },
        {
          "output_type": "stream",
          "name": "stderr",
          "text": []
        },
        {
          "output_type": "stream",
          "name": "stdout",
          "text": [
            "\u001b[92m\u001b[1m[2024-08-01 20:05:34.234] | Success | \u001b[0mDownload complete!\n",
            "\u001b[92m\u001b[1m[2024-08-01 20:05:34.237] | Success | \u001b[0mComputational sequence read from file cmumosi/CMU_MOSI_Visual_Facet_41.csd ...\n",
            "\u001b[94m\u001b[1m[2024-08-01 20:05:34.246] | Status  | \u001b[0mChecking the integrity of the <FACET_4.1> computational sequence ...\n",
            "\u001b[94m\u001b[1m[2024-08-01 20:05:34.246] | Status  | \u001b[0mChecking the format of the data in <FACET_4.1> computational sequence ...\n"
          ]
        },
        {
          "output_type": "stream",
          "name": "stderr",
          "text": []
        },
        {
          "output_type": "stream",
          "name": "stdout",
          "text": [
            "\u001b[92m\u001b[1m[2024-08-01 20:05:34.305] | Success | \u001b[0m<FACET_4.1> computational sequence data in correct format.\n",
            "\u001b[94m\u001b[1m[2024-08-01 20:05:34.305] | Status  | \u001b[0mChecking the format of the metadata in <FACET_4.1> computational sequence ...\n",
            "\u001b[93m\u001b[1m[2024-08-01 20:05:34.305] | Warning | \u001b[0m<FACET_4.1> computational sequence does not have all the required metadata ... continuing \n",
            "\u001b[94m\u001b[1m[2024-08-01 20:05:35.170] | Status  | \u001b[0mDownloading from http://immortal.multicomp.cs.cmu.edu/CMU-MOSI/visual/CMU_MOSI_Visual_Facet_42.csd to cmumosi/CMU_MOSI_Visual_Facet_42.csd...\n"
          ]
        },
        {
          "output_type": "stream",
          "name": "stderr",
          "text": []
        },
        {
          "output_type": "stream",
          "name": "stdout",
          "text": [
            "\u001b[92m\u001b[1m[2024-08-01 20:05:52.369] | Success | \u001b[0mDownload complete!\n",
            "\u001b[92m\u001b[1m[2024-08-01 20:05:52.371] | Success | \u001b[0mComputational sequence read from file cmumosi/CMU_MOSI_Visual_Facet_42.csd ...\n",
            "\u001b[94m\u001b[1m[2024-08-01 20:05:52.383] | Status  | \u001b[0mChecking the integrity of the <FACET_4.2> computational sequence ...\n",
            "\u001b[94m\u001b[1m[2024-08-01 20:05:52.383] | Status  | \u001b[0mChecking the format of the data in <FACET_4.2> computational sequence ...\n"
          ]
        },
        {
          "output_type": "stream",
          "name": "stderr",
          "text": []
        },
        {
          "output_type": "stream",
          "name": "stdout",
          "text": [
            "\u001b[92m\u001b[1m[2024-08-01 20:05:52.431] | Success | \u001b[0m<FACET_4.2> computational sequence data in correct format.\n",
            "\u001b[94m\u001b[1m[2024-08-01 20:05:52.431] | Status  | \u001b[0mChecking the format of the metadata in <FACET_4.2> computational sequence ...\n",
            "\u001b[93m\u001b[1m[2024-08-01 20:05:52.431] | Warning | \u001b[0m<FACET_4.2> computational sequence does not have all the required metadata ... continuing \n",
            "\u001b[94m\u001b[1m[2024-08-01 20:05:52.801] | Status  | \u001b[0mDownloading from http://immortal.multicomp.cs.cmu.edu/CMU-MOSI/acoustic/CMU_MOSI_OpenSmile_EB10.csd to cmumosi/CMU_MOSI_OpenSmile_EB10.csd...\n"
          ]
        },
        {
          "output_type": "stream",
          "name": "stderr",
          "text": []
        },
        {
          "output_type": "stream",
          "name": "stdout",
          "text": [
            "\u001b[92m\u001b[1m[2024-08-01 20:05:57.037] | Success | \u001b[0mDownload complete!\n",
            "\u001b[92m\u001b[1m[2024-08-01 20:05:57.038] | Success | \u001b[0mComputational sequence read from file cmumosi/CMU_MOSI_OpenSmile_EB10.csd ...\n",
            "\u001b[94m\u001b[1m[2024-08-01 20:05:57.052] | Status  | \u001b[0mChecking the integrity of the <OpenSmile_emobase2010> computational sequence ...\n",
            "\u001b[94m\u001b[1m[2024-08-01 20:05:57.052] | Status  | \u001b[0mChecking the format of the data in <OpenSmile_emobase2010> computational sequence ...\n"
          ]
        },
        {
          "output_type": "stream",
          "name": "stderr",
          "text": []
        },
        {
          "output_type": "stream",
          "name": "stdout",
          "text": [
            "\u001b[92m\u001b[1m[2024-08-01 20:05:57.124] | Success | \u001b[0m<OpenSmile_emobase2010> computational sequence data in correct format.\n",
            "\u001b[94m\u001b[1m[2024-08-01 20:05:57.124] | Status  | \u001b[0mChecking the format of the metadata in <OpenSmile_emobase2010> computational sequence ...\n",
            "\u001b[93m\u001b[1m[2024-08-01 20:05:57.124] | Warning | \u001b[0m<OpenSmile_emobase2010> computational sequence does not have all the required metadata ... continuing \n",
            "\u001b[94m\u001b[1m[2024-08-01 20:05:57.497] | Status  | \u001b[0mDownloading from http://immortal.multicomp.cs.cmu.edu/CMU-MOSI/acoustic/CMU_MOSI_openSMILE_IS09.csd to cmumosi/CMU_MOSI_openSMILE_IS09.csd...\n"
          ]
        },
        {
          "output_type": "stream",
          "name": "stderr",
          "text": []
        },
        {
          "output_type": "stream",
          "name": "stdout",
          "text": [
            "\u001b[92m\u001b[1m[2024-08-01 20:07:29.944] | Success | \u001b[0mDownload complete!\n",
            "\u001b[92m\u001b[1m[2024-08-01 20:07:29.946] | Success | \u001b[0mComputational sequence read from file cmumosi/CMU_MOSI_openSMILE_IS09.csd ...\n",
            "\u001b[94m\u001b[1m[2024-08-01 20:07:29.961] | Status  | \u001b[0mChecking the integrity of the <b'OpenSMILE'> computational sequence ...\n",
            "\u001b[94m\u001b[1m[2024-08-01 20:07:29.962] | Status  | \u001b[0mChecking the format of the data in <b'OpenSMILE'> computational sequence ...\n"
          ]
        },
        {
          "output_type": "stream",
          "name": "stderr",
          "text": []
        },
        {
          "output_type": "stream",
          "name": "stdout",
          "text": [
            "\u001b[92m\u001b[1m[2024-08-01 20:07:30.013] | Success | \u001b[0m<b'OpenSMILE'> computational sequence data in correct format.\n",
            "\u001b[94m\u001b[1m[2024-08-01 20:07:30.014] | Status  | \u001b[0mChecking the format of the metadata in <b'OpenSMILE'> computational sequence ...\n",
            "\u001b[93m\u001b[1m[2024-08-01 20:07:30.014] | Warning | \u001b[0m<b'OpenSMILE'> computational sequence does not have all the required metadata ... continuing \n",
            "\u001b[94m\u001b[1m[2024-08-01 20:07:30.753] | Status  | \u001b[0mDownloading from http://immortal.multicomp.cs.cmu.edu/CMU-MOSI/visual/CMU_MOSI_Visual_OpenFace_1.csd to cmumosi/CMU_MOSI_Visual_OpenFace_1.csd...\n"
          ]
        },
        {
          "output_type": "stream",
          "name": "stderr",
          "text": []
        },
        {
          "output_type": "stream",
          "name": "stdout",
          "text": [
            "\u001b[92m\u001b[1m[2024-08-01 20:09:37.214] | Success | \u001b[0mDownload complete!\n",
            "\u001b[92m\u001b[1m[2024-08-01 20:09:37.217] | Success | \u001b[0mComputational sequence read from file cmumosi/CMU_MOSI_Visual_OpenFace_1.csd ...\n",
            "\u001b[94m\u001b[1m[2024-08-01 20:09:37.235] | Status  | \u001b[0mChecking the integrity of the <OpenFace_1> computational sequence ...\n",
            "\u001b[94m\u001b[1m[2024-08-01 20:09:37.235] | Status  | \u001b[0mChecking the format of the data in <OpenFace_1> computational sequence ...\n"
          ]
        },
        {
          "output_type": "stream",
          "name": "stderr",
          "text": []
        },
        {
          "output_type": "stream",
          "name": "stdout",
          "text": [
            "\u001b[92m\u001b[1m[2024-08-01 20:09:37.319] | Success | \u001b[0m<OpenFace_1> computational sequence data in correct format.\n",
            "\u001b[94m\u001b[1m[2024-08-01 20:09:37.319] | Status  | \u001b[0mChecking the format of the metadata in <OpenFace_1> computational sequence ...\n",
            "\u001b[93m\u001b[1m[2024-08-01 20:09:37.320] | Warning | \u001b[0m<OpenFace_1> computational sequence does not have all the required metadata ... continuing \n",
            "\u001b[94m\u001b[1m[2024-08-01 20:09:38.184] | Status  | \u001b[0mDownloading from http://immortal.multicomp.cs.cmu.edu/CMU-MOSI/visual/CMU_MOSI_Visual_OpenFace_2.csd to cmumosi/CMU_MOSI_Visual_OpenFace_2.csd...\n"
          ]
        },
        {
          "output_type": "stream",
          "name": "stderr",
          "text": []
        },
        {
          "output_type": "stream",
          "name": "stdout",
          "text": [
            "\u001b[92m\u001b[1m[2024-08-01 20:11:25.683] | Success | \u001b[0mDownload complete!\n",
            "\u001b[92m\u001b[1m[2024-08-01 20:11:25.685] | Success | \u001b[0mComputational sequence read from file cmumosi/CMU_MOSI_Visual_OpenFace_2.csd ...\n",
            "\u001b[94m\u001b[1m[2024-08-01 20:11:25.693] | Status  | \u001b[0mChecking the integrity of the <OpenFace_2> computational sequence ...\n",
            "\u001b[94m\u001b[1m[2024-08-01 20:11:25.693] | Status  | \u001b[0mChecking the format of the data in <OpenFace_2> computational sequence ...\n"
          ]
        },
        {
          "output_type": "stream",
          "name": "stderr",
          "text": []
        },
        {
          "output_type": "stream",
          "name": "stdout",
          "text": [
            "\u001b[92m\u001b[1m[2024-08-01 20:11:25.739] | Success | \u001b[0m<OpenFace_2> computational sequence data in correct format.\n",
            "\u001b[94m\u001b[1m[2024-08-01 20:11:25.739] | Status  | \u001b[0mChecking the format of the metadata in <OpenFace_2> computational sequence ...\n",
            "\u001b[93m\u001b[1m[2024-08-01 20:11:25.739] | Warning | \u001b[0m<OpenFace_2> computational sequence does not have all the required metadata ... continuing \n",
            "\u001b[94m\u001b[1m[2024-08-01 20:11:26.480] | Status  | \u001b[0mDownloading from http://immortal.multicomp.cs.cmu.edu/CMU-MOSI/acoustic/CMU_MOSI_COVAREP.csd to cmumosi/CMU_MOSI_COVAREP.csd...\n"
          ]
        },
        {
          "output_type": "stream",
          "name": "stderr",
          "text": []
        },
        {
          "output_type": "stream",
          "name": "stdout",
          "text": [
            "\u001b[92m\u001b[1m[2024-08-01 20:12:38.380] | Success | \u001b[0mDownload complete!\n",
            "\u001b[92m\u001b[1m[2024-08-01 20:12:38.382] | Success | \u001b[0mComputational sequence read from file cmumosi/CMU_MOSI_COVAREP.csd ...\n",
            "\u001b[94m\u001b[1m[2024-08-01 20:12:38.391] | Status  | \u001b[0mChecking the integrity of the <COVAREP> computational sequence ...\n",
            "\u001b[94m\u001b[1m[2024-08-01 20:12:38.391] | Status  | \u001b[0mChecking the format of the data in <COVAREP> computational sequence ...\n"
          ]
        },
        {
          "output_type": "stream",
          "name": "stderr",
          "text": [
            "                                                                   "
          ]
        },
        {
          "output_type": "stream",
          "name": "stdout",
          "text": [
            "\u001b[92m\u001b[1m[2024-08-01 20:12:38.440] | Success | \u001b[0m<COVAREP> computational sequence data in correct format.\n",
            "\u001b[94m\u001b[1m[2024-08-01 20:12:38.440] | Status  | \u001b[0mChecking the format of the metadata in <COVAREP> computational sequence ...\n",
            "\u001b[93m\u001b[1m[2024-08-01 20:12:38.440] | Warning | \u001b[0m<COVAREP> computational sequence does not have all the required metadata ... continuing \n",
            "\u001b[92m\u001b[1m[2024-08-01 20:12:38.440] | Success | \u001b[0mDataset initialized successfully ... \n"
          ]
        },
        {
          "output_type": "stream",
          "name": "stderr",
          "text": [
            "\r"
          ]
        }
      ]
    },
    {
      "cell_type": "code",
      "source": [
        "cmumosi_highlevel.add_computational_sequences(mmdatasdk.cmu_mosi.labels,'cmumosi/')"
      ],
      "metadata": {
        "colab": {
          "base_uri": "https://localhost:8080/"
        },
        "id": "fOcZ3Nj3ktHb",
        "outputId": "9afcaf4d-4324-40ba-c5cf-d08c7551ee0c"
      },
      "execution_count": null,
      "outputs": [
        {
          "output_type": "stream",
          "name": "stdout",
          "text": [
            "\u001b[94m\u001b[1m[2024-08-01 20:13:03.326] | Status  | \u001b[0mDownloading from http://immortal.multicomp.cs.cmu.edu/CMU-MOSI/labels/CMU_MOSI_Opinion_Labels.csd to cmumosi/CMU_MOSI_Opinion_Labels.csd...\n"
          ]
        },
        {
          "output_type": "stream",
          "name": "stderr",
          "text": []
        },
        {
          "output_type": "stream",
          "name": "stdout",
          "text": [
            "\u001b[92m\u001b[1m[2024-08-01 20:13:04.439] | Success | \u001b[0mDownload complete!\n",
            "\u001b[92m\u001b[1m[2024-08-01 20:13:04.440] | Success | \u001b[0mComputational sequence read from file cmumosi/CMU_MOSI_Opinion_Labels.csd ...\n",
            "\u001b[94m\u001b[1m[2024-08-01 20:13:04.448] | Status  | \u001b[0mChecking the integrity of the <Opinion Segment Labels> computational sequence ...\n",
            "\u001b[94m\u001b[1m[2024-08-01 20:13:04.448] | Status  | \u001b[0mChecking the format of the data in <Opinion Segment Labels> computational sequence ...\n"
          ]
        },
        {
          "output_type": "stream",
          "name": "stderr",
          "text": [
            "                                                                   "
          ]
        },
        {
          "output_type": "stream",
          "name": "stdout",
          "text": [
            "\u001b[92m\u001b[1m[2024-08-01 20:13:04.494] | Success | \u001b[0m<Opinion Segment Labels> computational sequence data in correct format.\n",
            "\u001b[94m\u001b[1m[2024-08-01 20:13:04.494] | Status  | \u001b[0mChecking the format of the metadata in <Opinion Segment Labels> computational sequence ...\n",
            "\u001b[93m\u001b[1m[2024-08-01 20:13:04.494] | Warning | \u001b[0m<Opinion Segment Labels> computational sequence does not have all the required metadata ... continuing \n"
          ]
        },
        {
          "output_type": "stream",
          "name": "stderr",
          "text": [
            "\r"
          ]
        }
      ]
    },
    {
      "cell_type": "code",
      "source": [
        "cmumosi_highlevel.align('Opinion Segment Labels')"
      ],
      "metadata": {
        "colab": {
          "base_uri": "https://localhost:8080/"
        },
        "id": "En3rg144k3x_",
        "outputId": "43f1c6c1-60c4-4ae3-9dd4-701e0fe05977"
      },
      "execution_count": null,
      "outputs": [
        {
          "output_type": "stream",
          "name": "stdout",
          "text": [
            "\u001b[94m\u001b[1m[2024-08-01 20:13:36.682] | Status  | \u001b[0mUnify was called ...\n",
            "\u001b[93m\u001b[1m[2024-08-01 20:13:36.684] | Warning | \u001b[0mc5xsKMxpXnc entry is not shared among all sequences, removing it ...\n",
            "\u001b[92m\u001b[1m[2024-08-01 20:13:36.686] | Success | \u001b[0mUnify completed ...\n",
            "\u001b[94m\u001b[1m[2024-08-01 20:13:36.686] | Status  | \u001b[0mPre-alignment based on <Opinion Segment Labels> computational sequence started ...\n",
            "\u001b[94m\u001b[1m[2024-08-01 20:13:37.700] | Status  | \u001b[0mPre-alignment done for <glove_vectors> ...\n",
            "\u001b[94m\u001b[1m[2024-08-01 20:13:37.907] | Status  | \u001b[0mPre-alignment done for <OpenSmile-emobase2010> ...\n",
            "\u001b[94m\u001b[1m[2024-08-01 20:13:49.496] | Status  | \u001b[0mPre-alignment done for <OpenFace_2> ...\n",
            "\u001b[94m\u001b[1m[2024-08-01 20:13:50.724] | Status  | \u001b[0mPre-alignment done for <FACET_4.1> ...\n",
            "\u001b[94m\u001b[1m[2024-08-01 20:13:51.959] | Status  | \u001b[0mPre-alignment done for <OpenSMILE> ...\n",
            "\u001b[94m\u001b[1m[2024-08-01 20:13:52.912] | Status  | \u001b[0mPre-alignment done for <FACET_4.2> ...\n",
            "\u001b[94m\u001b[1m[2024-08-01 20:14:01.555] | Status  | \u001b[0mPre-alignment done for <OpenFace_1> ...\n",
            "\u001b[94m\u001b[1m[2024-08-01 20:14:06.477] | Status  | \u001b[0mPre-alignment done for <COVAREP> ...\n",
            "\u001b[94m\u001b[1m[2024-08-01 20:14:06.543] | Status  | \u001b[0mAlignment starting ...\n"
          ]
        },
        {
          "output_type": "stream",
          "name": "stderr",
          "text": [
            "Overall Progress:   0%|          | 0/92 [00:00<?, ? Computational Sequence Entries/s]\n",
            "  0%|          | 0/13 [00:00<?, ? Segments/s]\u001b[A\n",
            "Aligning 03bSnISJMiM:   0%|          | 0/13 [00:00<?, ? Segments/s]\u001b[A\n",
            "Aligning 03bSnISJMiM:  92%|█████████▏| 12/13 [00:00<00:00, 117.18 Segments/s]\u001b[A\n",
            "Overall Progress:   1%|          | 1/92 [00:00<00:12,  7.36 Computational Sequence Entries/s]\n",
            "  0%|          | 0/25 [00:00<?, ? Segments/s]\u001b[A\n",
            "Aligning 0h-zjBukYpk:   0%|          | 0/25 [00:00<?, ? Segments/s]\u001b[A\n",
            "Aligning 0h-zjBukYpk:  68%|██████▊   | 17/25 [00:00<00:00, 168.73 Segments/s]\u001b[A\n",
            "Overall Progress:   2%|▏         | 2/92 [00:00<00:13,  6.52 Computational Sequence Entries/s]\n",
            "  0%|          | 0/14 [00:00<?, ? Segments/s]\u001b[A\n",
            "Aligning 1DmNV9C1hbY:   0%|          | 0/14 [00:00<?, ? Segments/s]\u001b[A\n",
            "                                                                   \u001b[A\n",
            "  0%|          | 0/30 [00:00<?, ? Segments/s]\u001b[A\n",
            "Aligning 1iG0909rllw:   0%|          | 0/30 [00:00<?, ? Segments/s]\u001b[A\n",
            "Aligning 1iG0909rllw:  67%|██████▋   | 20/30 [00:00<00:00, 190.85 Segments/s]\u001b[A\n",
            "Overall Progress:   4%|▍         | 4/92 [00:00<00:12,  7.11 Computational Sequence Entries/s]\n",
            "  0%|          | 0/63 [00:00<?, ? Segments/s]\u001b[A\n",
            "Aligning 2WGyTLYerpo:   0%|          | 0/63 [00:00<?, ? Segments/s]\u001b[A\n",
            "Aligning 2WGyTLYerpo:  17%|█▋        | 11/63 [00:00<00:00, 109.57 Segments/s]\u001b[A\n",
            "Aligning 2WGyTLYerpo:  43%|████▎     | 27/63 [00:00<00:00, 137.85 Segments/s]\u001b[A\n",
            "Aligning 2WGyTLYerpo:  67%|██████▋   | 42/63 [00:00<00:00, 142.64 Segments/s]\u001b[A\n",
            "Overall Progress:   5%|▌         | 5/92 [00:00<00:19,  4.40 Computational Sequence Entries/s]\n",
            "  0%|          | 0/30 [00:00<?, ? Segments/s]\u001b[A\n",
            "Aligning 2iD-tVS8NPw:   0%|          | 0/30 [00:00<?, ? Segments/s]\u001b[A\n",
            "Aligning 2iD-tVS8NPw:  67%|██████▋   | 20/30 [00:00<00:00, 189.37 Segments/s]\u001b[A\n",
            "Overall Progress:   7%|▋         | 6/92 [00:01<00:18,  4.60 Computational Sequence Entries/s]\n",
            "  0%|          | 0/24 [00:00<?, ? Segments/s]\u001b[A\n",
            "Aligning 5W7Z1C_fDaE:   0%|          | 0/24 [00:00<?, ? Segments/s]\u001b[A\n",
            "                                                                   \u001b[A\n",
            "  0%|          | 0/12 [00:00<?, ? Segments/s]\u001b[A\n",
            "Aligning 6Egk_28TtTM:   0%|          | 0/12 [00:00<?, ? Segments/s]\u001b[A\n",
            "Overall Progress:   9%|▊         | 8/92 [00:01<00:13,  6.35 Computational Sequence Entries/s]\n",
            "  0%|          | 0/14 [00:00<?, ? Segments/s]\u001b[A\n",
            "Aligning 6_0THN4chvY:   0%|          | 0/14 [00:00<?, ? Segments/s]\u001b[A\n",
            "                                                                   \u001b[A\n",
            "  0%|          | 0/19 [00:00<?, ? Segments/s]\u001b[A\n",
            "Aligning 73jzhE8R1TQ:   0%|          | 0/19 [00:00<?, ? Segments/s]\u001b[A\n",
            "Aligning 73jzhE8R1TQ:  84%|████████▍ | 16/19 [00:00<00:00, 156.61 Segments/s]\u001b[A\n",
            "Overall Progress:  11%|█         | 10/92 [00:01<00:11,  7.16 Computational Sequence Entries/s]\n",
            "  0%|          | 0/39 [00:00<?, ? Segments/s]\u001b[A\n",
            "Aligning 7JsX8y1ysxY:   0%|          | 0/39 [00:00<?, ? Segments/s]\u001b[A\n",
            "Aligning 7JsX8y1ysxY:  36%|███▌      | 14/39 [00:00<00:00, 135.36 Segments/s]\u001b[A\n",
            "Aligning 7JsX8y1ysxY:  77%|███████▋  | 30/39 [00:00<00:00, 145.31 Segments/s]\u001b[A\n",
            "Overall Progress:  12%|█▏        | 11/92 [00:01<00:14,  5.79 Computational Sequence Entries/s]\n",
            "  0%|          | 0/23 [00:00<?, ? Segments/s]\u001b[A\n",
            "Aligning 8OtFthrtaJM:   0%|          | 0/23 [00:00<?, ? Segments/s]\u001b[A\n",
            "Aligning 8OtFthrtaJM:  52%|█████▏    | 12/23 [00:00<00:00, 117.95 Segments/s]\u001b[A\n",
            "Overall Progress:  13%|█▎        | 12/92 [00:02<00:14,  5.69 Computational Sequence Entries/s]\n",
            "  0%|          | 0/30 [00:00<?, ? Segments/s]\u001b[A\n",
            "Aligning 8d-gEyoeBzc:   0%|          | 0/30 [00:00<?, ? Segments/s]\u001b[A\n",
            "Aligning 8d-gEyoeBzc:  63%|██████▎   | 19/30 [00:00<00:00, 189.74 Segments/s]\u001b[A\n",
            "Overall Progress:  14%|█▍        | 13/92 [00:02<00:14,  5.62 Computational Sequence Entries/s]\n",
            "  0%|          | 0/26 [00:00<?, ? Segments/s]\u001b[A\n",
            "Aligning 8qrpnFRGt2A:   0%|          | 0/26 [00:00<?, ? Segments/s]\u001b[A\n",
            "Aligning 8qrpnFRGt2A:  65%|██████▌   | 17/26 [00:00<00:00, 167.83 Segments/s]\u001b[A\n",
            "Overall Progress:  15%|█▌        | 14/92 [00:02<00:13,  5.71 Computational Sequence Entries/s]\n",
            "  0%|          | 0/25 [00:00<?, ? Segments/s]\u001b[A\n",
            "Aligning 9J25DZhivz8:   0%|          | 0/25 [00:00<?, ? Segments/s]\u001b[A\n",
            "Aligning 9J25DZhivz8:  76%|███████▌  | 19/25 [00:00<00:00, 180.37 Segments/s]\u001b[A\n",
            "Overall Progress:  16%|█▋        | 15/92 [00:02<00:13,  5.82 Computational Sequence Entries/s]\n",
            "  0%|          | 0/25 [00:00<?, ? Segments/s]\u001b[A\n",
            "Aligning 9T9Hf74oK10:   0%|          | 0/25 [00:00<?, ? Segments/s]\u001b[A\n",
            "Aligning 9T9Hf74oK10:  60%|██████    | 15/25 [00:00<00:00, 141.58 Segments/s]\u001b[A\n",
            "Overall Progress:  17%|█▋        | 16/92 [00:02<00:13,  5.64 Computational Sequence Entries/s]\n",
            "  0%|          | 0/12 [00:00<?, ? Segments/s]\u001b[A\n",
            "Aligning 9c67fiY0wGQ:   0%|          | 0/12 [00:00<?, ? Segments/s]\u001b[A\n",
            "                                                                   \u001b[A\n",
            "  0%|          | 0/33 [00:00<?, ? Segments/s]\u001b[A\n",
            "Aligning 9qR7uwkblbs:   0%|          | 0/33 [00:00<?, ? Segments/s]\u001b[A\n",
            "Aligning 9qR7uwkblbs:  45%|████▌     | 15/33 [00:00<00:00, 142.54 Segments/s]\u001b[A\n",
            "Overall Progress:  20%|█▉        | 18/92 [00:03<00:12,  5.98 Computational Sequence Entries/s]\n",
            "  0%|          | 0/31 [00:00<?, ? Segments/s]\u001b[A\n",
            "Aligning Af8D0E4ZXaw:   0%|          | 0/31 [00:00<?, ? Segments/s]\u001b[A\n",
            "Aligning Af8D0E4ZXaw:  68%|██████▊   | 21/31 [00:00<00:00, 205.20 Segments/s]\u001b[A\n",
            "Overall Progress:  21%|██        | 19/92 [00:03<00:12,  5.97 Computational Sequence Entries/s]\n",
            "  0%|          | 0/31 [00:00<?, ? Segments/s]\u001b[A\n",
            "Aligning BI97DNYfe5I:   0%|          | 0/31 [00:00<?, ? Segments/s]\u001b[A\n",
            "Aligning BI97DNYfe5I:  84%|████████▍ | 26/31 [00:00<00:00, 256.38 Segments/s]\u001b[A\n",
            "Overall Progress:  22%|██▏       | 20/92 [00:03<00:11,  6.20 Computational Sequence Entries/s]\n",
            "  0%|          | 0/31 [00:00<?, ? Segments/s]\u001b[A\n",
            "Aligning BXuRRbG0Ugk:   0%|          | 0/31 [00:00<?, ? Segments/s]\u001b[A\n",
            "Aligning BXuRRbG0Ugk:  58%|█████▊    | 18/31 [00:00<00:00, 179.66 Segments/s]\u001b[A\n",
            "Overall Progress:  23%|██▎       | 21/92 [00:03<00:12,  5.80 Computational Sequence Entries/s]\n",
            "  0%|          | 0/22 [00:00<?, ? Segments/s]\u001b[A\n",
            "Aligning Bfr499ggo-0:   0%|          | 0/22 [00:00<?, ? Segments/s]\u001b[A\n",
            "Aligning Bfr499ggo-0:  95%|█████████▌| 21/22 [00:00<00:00, 204.67 Segments/s]\u001b[A\n",
            "Overall Progress:  24%|██▍       | 22/92 [00:03<00:11,  6.17 Computational Sequence Entries/s]\n",
            "  0%|          | 0/30 [00:00<?, ? Segments/s]\u001b[A\n",
            "Aligning BioHAh1qJAQ:   0%|          | 0/30 [00:00<?, ? Segments/s]\u001b[A\n",
            "Aligning BioHAh1qJAQ:  50%|█████     | 15/30 [00:00<00:00, 146.96 Segments/s]\u001b[A\n",
            "Overall Progress:  25%|██▌       | 23/92 [00:03<00:12,  5.70 Computational Sequence Entries/s]\n",
            "  0%|          | 0/26 [00:00<?, ? Segments/s]\u001b[A\n",
            "Aligning BvYR0L6f2Ig:   0%|          | 0/26 [00:00<?, ? Segments/s]\u001b[A\n",
            "Aligning BvYR0L6f2Ig:  69%|██████▉   | 18/26 [00:00<00:00, 179.13 Segments/s]\u001b[A\n",
            "Overall Progress:  26%|██▌       | 24/92 [00:04<00:11,  5.89 Computational Sequence Entries/s]\n",
            "  0%|          | 0/44 [00:00<?, ? Segments/s]\u001b[A\n",
            "Aligning Ci-AH39fi3Y:   0%|          | 0/44 [00:00<?, ? Segments/s]\u001b[A\n",
            "Aligning Ci-AH39fi3Y:  41%|████      | 18/44 [00:00<00:00, 169.87 Segments/s]\u001b[A\n",
            "Aligning Ci-AH39fi3Y:  80%|███████▉  | 35/44 [00:00<00:00, 160.95 Segments/s]\u001b[A\n",
            "Overall Progress:  27%|██▋       | 25/92 [00:04<00:13,  4.84 Computational Sequence Entries/s]\n",
            "  0%|          | 0/31 [00:00<?, ? Segments/s]\u001b[A\n",
            "Aligning Clx4VXItLTE:   0%|          | 0/31 [00:00<?, ? Segments/s]\u001b[A\n",
            "Aligning Clx4VXItLTE:  48%|████▊     | 15/31 [00:00<00:00, 147.55 Segments/s]\u001b[A\n",
            "Aligning Clx4VXItLTE:  97%|█████████▋| 30/31 [00:00<00:00, 148.76 Segments/s]\u001b[A\n",
            "Overall Progress:  28%|██▊       | 26/92 [00:04<00:14,  4.68 Computational Sequence Entries/s]\n",
            "  0%|          | 0/18 [00:00<?, ? Segments/s]\u001b[A\n",
            "Aligning Dg_0XKD0Mf4:   0%|          | 0/18 [00:00<?, ? Segments/s]\u001b[A\n",
            "Aligning Dg_0XKD0Mf4:  83%|████████▎ | 15/18 [00:00<00:00, 149.84 Segments/s]\u001b[A\n",
            "Overall Progress:  29%|██▉       | 27/92 [00:04<00:12,  5.21 Computational Sequence Entries/s]\n",
            "  0%|          | 0/21 [00:00<?, ? Segments/s]\u001b[A\n",
            "Aligning G-xst2euQUc:   0%|          | 0/21 [00:00<?, ? Segments/s]\u001b[A\n",
            "Aligning G-xst2euQUc:  48%|████▊     | 10/21 [00:00<00:00, 97.48 Segments/s]\u001b[A\n",
            "Overall Progress:  30%|███       | 28/92 [00:04<00:12,  5.05 Computational Sequence Entries/s]\n",
            "  0%|          | 0/29 [00:00<?, ? Segments/s]\u001b[A\n",
            "Aligning G6GlGvlkxAQ:   0%|          | 0/29 [00:00<?, ? Segments/s]\u001b[A\n",
            "Aligning G6GlGvlkxAQ:  38%|███▊      | 11/29 [00:00<00:00, 107.13 Segments/s]\u001b[A\n",
            "Aligning G6GlGvlkxAQ: 100%|██████████| 29/29 [00:00<00:00, 146.87 Segments/s]\u001b[A\n",
            "Overall Progress:  32%|███▏      | 29/92 [00:05<00:13,  4.80 Computational Sequence Entries/s]\n",
            "  0%|          | 0/18 [00:00<?, ? Segments/s]\u001b[A\n",
            "Aligning GWuJjcEuzt8:   0%|          | 0/18 [00:00<?, ? Segments/s]\u001b[A\n",
            "Aligning GWuJjcEuzt8:  94%|█████████▍| 17/18 [00:00<00:00, 166.65 Segments/s]\u001b[A\n",
            "Overall Progress:  33%|███▎      | 30/92 [00:05<00:11,  5.36 Computational Sequence Entries/s]\n",
            "  0%|          | 0/34 [00:00<?, ? Segments/s]\u001b[A\n",
            "Aligning HEsqda8_d0Q:   0%|          | 0/34 [00:00<?, ? Segments/s]\u001b[A\n",
            "Aligning HEsqda8_d0Q:  50%|█████     | 17/34 [00:00<00:00, 168.45 Segments/s]\u001b[A\n",
            "Aligning HEsqda8_d0Q: 100%|██████████| 34/34 [00:00<00:00, 155.14 Segments/s]\u001b[A\n",
            "Overall Progress:  34%|███▎      | 31/92 [00:05<00:12,  4.94 Computational Sequence Entries/s]\n",
            "  0%|          | 0/39 [00:00<?, ? Segments/s]\u001b[A\n",
            "Aligning I5y0__X72p0:   0%|          | 0/39 [00:00<?, ? Segments/s]\u001b[A\n",
            "Aligning I5y0__X72p0:  31%|███       | 12/39 [00:00<00:00, 118.02 Segments/s]\u001b[A\n",
            "Aligning I5y0__X72p0:  64%|██████▍   | 25/39 [00:00<00:00, 123.79 Segments/s]\u001b[A\n",
            "Aligning I5y0__X72p0:  97%|█████████▋| 38/39 [00:00<00:00, 118.51 Segments/s]\u001b[A\n",
            "Overall Progress:  35%|███▍      | 32/92 [00:05<00:15,  3.97 Computational Sequence Entries/s]\n",
            "  0%|          | 0/16 [00:00<?, ? Segments/s]\u001b[A\n",
            "Aligning Iu2PFX3z_1s:   0%|          | 0/16 [00:00<?, ? Segments/s]\u001b[A\n",
            "Overall Progress:  36%|███▌      | 33/92 [00:06<00:12,  4.77 Computational Sequence Entries/s]\n",
            "  0%|          | 0/22 [00:00<?, ? Segments/s]\u001b[A\n",
            "Aligning IumbAb8q2dM:   0%|          | 0/22 [00:00<?, ? Segments/s]\u001b[A\n",
            "Aligning IumbAb8q2dM:  73%|███████▎  | 16/22 [00:00<00:00, 154.91 Segments/s]\u001b[A\n",
            "Overall Progress:  37%|███▋      | 34/92 [00:06<00:11,  5.20 Computational Sequence Entries/s]\n",
            "  0%|          | 0/20 [00:00<?, ? Segments/s]\u001b[A\n",
            "Aligning Jkswaaud0hk:   0%|          | 0/20 [00:00<?, ? Segments/s]\u001b[A\n",
            "Overall Progress:  38%|███▊      | 35/92 [00:06<00:09,  6.05 Computational Sequence Entries/s]\n",
            "  0%|          | 0/29 [00:00<?, ? Segments/s]\u001b[A\n",
            "Aligning LSi-o-IrDMs:   0%|          | 0/29 [00:00<?, ? Segments/s]\u001b[A\n",
            "Aligning LSi-o-IrDMs:  52%|█████▏    | 15/29 [00:00<00:00, 143.93 Segments/s]\u001b[A\n",
            "Overall Progress:  39%|███▉      | 36/92 [00:06<00:10,  5.56 Computational Sequence Entries/s]\n",
            "  0%|          | 0/18 [00:00<?, ? Segments/s]\u001b[A\n",
            "Aligning MLal-t_vJPM:   0%|          | 0/18 [00:00<?, ? Segments/s]\u001b[A\n",
            "Aligning MLal-t_vJPM:  94%|█████████▍| 17/18 [00:00<00:00, 162.25 Segments/s]\u001b[A\n",
            "Overall Progress:  40%|████      | 37/92 [00:06<00:09,  6.02 Computational Sequence Entries/s]\n",
            "  0%|          | 0/13 [00:00<?, ? Segments/s]\u001b[A\n",
            "Aligning Njd1F0vZSm4:   0%|          | 0/13 [00:00<?, ? Segments/s]\u001b[A\n",
            "                                                                   \u001b[A\n",
            "  0%|          | 0/32 [00:00<?, ? Segments/s]\u001b[A\n",
            "Aligning Nzq88NnDkEk:   0%|          | 0/32 [00:00<?, ? Segments/s]\u001b[A\n",
            "Aligning Nzq88NnDkEk:  41%|████      | 13/32 [00:00<00:00, 124.70 Segments/s]\u001b[A\n",
            "Aligning Nzq88NnDkEk:  91%|█████████ | 29/32 [00:00<00:00, 142.23 Segments/s]\u001b[A\n",
            "Overall Progress:  42%|████▏     | 39/92 [00:07<00:08,  5.92 Computational Sequence Entries/s]\n",
            "  0%|          | 0/16 [00:00<?, ? Segments/s]\u001b[A\n",
            "Aligning OQvJTdtJ2H4:   0%|          | 0/16 [00:00<?, ? Segments/s]\u001b[A\n",
            "Overall Progress:  43%|████▎     | 40/92 [00:07<00:08,  6.38 Computational Sequence Entries/s]\n",
            "  0%|          | 0/24 [00:00<?, ? Segments/s]\u001b[A\n",
            "Aligning OtBXNcAL_lE:   0%|          | 0/24 [00:00<?, ? Segments/s]\u001b[A\n",
            "Aligning OtBXNcAL_lE:  46%|████▌     | 11/24 [00:00<00:00, 105.04 Segments/s]\u001b[A\n",
            "Overall Progress:  45%|████▍     | 41/92 [00:07<00:08,  5.89 Computational Sequence Entries/s]\n",
            "  0%|          | 0/25 [00:00<?, ? Segments/s]\u001b[A\n",
            "Aligning Oz06ZWiO20M:   0%|          | 0/25 [00:00<?, ? Segments/s]\u001b[A\n",
            "Aligning Oz06ZWiO20M:  48%|████▊     | 12/25 [00:00<00:00, 112.22 Segments/s]\u001b[A\n",
            "Overall Progress:  46%|████▌     | 42/92 [00:07<00:09,  5.47 Computational Sequence Entries/s]\n",
            "  0%|          | 0/13 [00:00<?, ? Segments/s]\u001b[A\n",
            "Aligning POKffnXeBds:   0%|          | 0/13 [00:00<?, ? Segments/s]\u001b[A\n",
            "                                                                   \u001b[A\n",
            "  0%|          | 0/12 [00:00<?, ? Segments/s]\u001b[A\n",
            "Aligning PZ-lDQFboO8:   0%|          | 0/12 [00:00<?, ? Segments/s]\u001b[A\n",
            "Overall Progress:  48%|████▊     | 44/92 [00:07<00:06,  7.24 Computational Sequence Entries/s]\n",
            "  0%|          | 0/18 [00:00<?, ? Segments/s]\u001b[A\n",
            "Aligning QN9ZIUWUXsY:   0%|          | 0/18 [00:00<?, ? Segments/s]\u001b[A\n",
            "Aligning QN9ZIUWUXsY:  83%|████████▎ | 15/18 [00:00<00:00, 148.40 Segments/s]\u001b[A\n",
            "Overall Progress:  49%|████▉     | 45/92 [00:07<00:06,  7.19 Computational Sequence Entries/s]\n",
            "  0%|          | 0/14 [00:00<?, ? Segments/s]\u001b[A\n",
            "Aligning Qr1Ca94K55A:   0%|          | 0/14 [00:00<?, ? Segments/s]\u001b[A\n",
            "                                                                   \u001b[A\n",
            "  0%|          | 0/22 [00:00<?, ? Segments/s]\u001b[A\n",
            "Aligning Sqr0AcuoNnk:   0%|          | 0/22 [00:00<?, ? Segments/s]\u001b[A\n",
            "Aligning Sqr0AcuoNnk:  73%|███████▎  | 16/22 [00:00<00:00, 155.70 Segments/s]\u001b[A\n",
            "Overall Progress:  51%|█████     | 47/92 [00:08<00:06,  7.43 Computational Sequence Entries/s]\n",
            "  0%|          | 0/15 [00:00<?, ? Segments/s]\u001b[A\n",
            "Aligning TvyZBvOMOTc:   0%|          | 0/15 [00:00<?, ? Segments/s]\u001b[A\n",
            "                                                                   \u001b[A\n",
            "  0%|          | 0/17 [00:00<?, ? Segments/s]\u001b[A\n",
            "Aligning VCslbP0mgZI:   0%|          | 0/17 [00:00<?, ? Segments/s]\u001b[A\n",
            "Overall Progress:  53%|█████▎    | 49/92 [00:08<00:05,  8.46 Computational Sequence Entries/s]\n",
            "  0%|          | 0/55 [00:00<?, ? Segments/s]\u001b[A\n",
            "Aligning VbQk4H8hgr0:   0%|          | 0/55 [00:00<?, ? Segments/s]\u001b[A\n",
            "Aligning VbQk4H8hgr0:  47%|████▋     | 26/55 [00:00<00:00, 253.73 Segments/s]\u001b[A\n",
            "Aligning VbQk4H8hgr0:  96%|█████████▋| 53/55 [00:00<00:00, 259.06 Segments/s]\u001b[A\n",
            "Overall Progress:  54%|█████▍    | 50/92 [00:08<00:06,  6.95 Computational Sequence Entries/s]\n",
            "  0%|          | 0/9 [00:00<?, ? Segments/s]\u001b[A\n",
            "Aligning Vj1wYRQjB-o:   0%|          | 0/9 [00:00<?, ? Segments/s]\u001b[A\n",
            "                                                                  \u001b[A\n",
            "  0%|          | 0/32 [00:00<?, ? Segments/s]\u001b[A\n",
            "Aligning W8NXH0Djyww:   0%|          | 0/32 [00:00<?, ? Segments/s]\u001b[A\n",
            "Aligning W8NXH0Djyww:  66%|██████▌   | 21/32 [00:00<00:00, 203.78 Segments/s]\u001b[A\n",
            "Overall Progress:  57%|█████▋    | 52/92 [00:08<00:05,  7.22 Computational Sequence Entries/s]\n",
            "  0%|          | 0/22 [00:00<?, ? Segments/s]\u001b[A\n",
            "Aligning WKA5OygbEKI:   0%|          | 0/22 [00:00<?, ? Segments/s]\u001b[A\n",
            "Aligning WKA5OygbEKI:  95%|█████████▌| 21/22 [00:00<00:00, 204.85 Segments/s]\u001b[A\n",
            "Overall Progress:  58%|█████▊    | 53/92 [00:08<00:05,  7.24 Computational Sequence Entries/s]\n",
            "  0%|          | 0/11 [00:00<?, ? Segments/s]\u001b[A\n",
            "Aligning X3j2zQgwYgE:   0%|          | 0/11 [00:00<?, ? Segments/s]\u001b[A\n",
            "                                                                   \u001b[A\n",
            "  0%|          | 0/9 [00:00<?, ? Segments/s]\u001b[A\n",
            "Aligning ZAIRrfG22O0:   0%|          | 0/9 [00:00<?, ? Segments/s]\u001b[A\n",
            "Overall Progress:  60%|█████▉    | 55/92 [00:09<00:04,  9.05 Computational Sequence Entries/s]\n",
            "  0%|          | 0/34 [00:00<?, ? Segments/s]\u001b[A\n",
            "Aligning ZUXBRvtny7o:   0%|          | 0/34 [00:00<?, ? Segments/s]\u001b[A\n",
            "Aligning ZUXBRvtny7o:  50%|█████     | 17/34 [00:00<00:00, 163.09 Segments/s]\u001b[A\n",
            "Overall Progress:  61%|██████    | 56/92 [00:09<00:04,  7.61 Computational Sequence Entries/s]\n",
            "  0%|          | 0/28 [00:00<?, ? Segments/s]\u001b[A\n",
            "Aligning _dI--eQ6qVU:   0%|          | 0/28 [00:00<?, ? Segments/s]\u001b[A\n",
            "Aligning _dI--eQ6qVU:  61%|██████    | 17/28 [00:00<00:00, 167.87 Segments/s]\u001b[A\n",
            "Overall Progress:  62%|██████▏   | 57/92 [00:09<00:04,  7.12 Computational Sequence Entries/s]\n",
            "  0%|          | 0/30 [00:00<?, ? Segments/s]\u001b[A\n",
            "Aligning aiEXnCPZubE:   0%|          | 0/30 [00:00<?, ? Segments/s]\u001b[A\n",
            "Aligning aiEXnCPZubE:  60%|██████    | 18/30 [00:00<00:00, 179.07 Segments/s]\u001b[A\n",
            "Overall Progress:  63%|██████▎   | 58/92 [00:09<00:05,  6.62 Computational Sequence Entries/s]\n",
            "  0%|          | 0/21 [00:00<?, ? Segments/s]\u001b[A\n",
            "Aligning atnd_PF-Lbs:   0%|          | 0/21 [00:00<?, ? Segments/s]\u001b[A\n",
            "Overall Progress:  64%|██████▍   | 59/92 [00:09<00:04,  7.10 Computational Sequence Entries/s]\n",
            "  0%|          | 0/34 [00:00<?, ? Segments/s]\u001b[A\n",
            "Aligning bOL9jKpeJRs:   0%|          | 0/34 [00:00<?, ? Segments/s]\u001b[A\n",
            "Aligning bOL9jKpeJRs:  97%|█████████▋| 33/34 [00:00<00:00, 322.37 Segments/s]\u001b[A\n",
            "Overall Progress:  65%|██████▌   | 60/92 [00:09<00:04,  7.22 Computational Sequence Entries/s]\n",
            "  0%|          | 0/25 [00:00<?, ? Segments/s]\u001b[A\n",
            "Aligning bvLlb-M3UXU:   0%|          | 0/25 [00:00<?, ? Segments/s]\u001b[A\n",
            "Aligning bvLlb-M3UXU:  96%|█████████▌| 24/25 [00:00<00:00, 238.81 Segments/s]\u001b[A\n",
            "Overall Progress:  66%|██████▋   | 61/92 [00:09<00:04,  7.37 Computational Sequence Entries/s]\n",
            "  0%|          | 0/33 [00:00<?, ? Segments/s]\u001b[A\n",
            "Aligning c7UH_rxdZv4:   0%|          | 0/33 [00:00<?, ? Segments/s]\u001b[A\n",
            "Aligning c7UH_rxdZv4:  73%|███████▎  | 24/33 [00:00<00:00, 237.08 Segments/s]\u001b[A\n",
            "Overall Progress:  67%|██████▋   | 62/92 [00:10<00:04,  7.06 Computational Sequence Entries/s]\n",
            "  0%|          | 0/16 [00:00<?, ? Segments/s]\u001b[A\n",
            "Aligning cM3Yna7AavY:   0%|          | 0/16 [00:00<?, ? Segments/s]\u001b[A\n",
            "                                                                   \u001b[A\n",
            "  0%|          | 0/24 [00:00<?, ? Segments/s]\u001b[A\n",
            "Aligning cW1FSBF59ik:   0%|          | 0/24 [00:00<?, ? Segments/s]\u001b[A\n",
            "Aligning cW1FSBF59ik:  92%|█████████▏| 22/24 [00:00<00:00, 213.89 Segments/s]\u001b[A\n",
            "Overall Progress:  70%|██████▉   | 64/92 [00:10<00:03,  7.84 Computational Sequence Entries/s]\n",
            "  0%|          | 0/29 [00:00<?, ? Segments/s]\u001b[A\n",
            "Aligning cXypl4FnoZo:   0%|          | 0/29 [00:00<?, ? Segments/s]\u001b[A\n",
            "Aligning cXypl4FnoZo:  79%|███████▉  | 23/29 [00:00<00:00, 229.15 Segments/s]\u001b[A\n",
            "Overall Progress:  71%|███████   | 65/92 [00:10<00:03,  7.54 Computational Sequence Entries/s]\n",
            "  0%|          | 0/19 [00:00<?, ? Segments/s]\u001b[A\n",
            "Aligning d3_k5Xpfmik:   0%|          | 0/19 [00:00<?, ? Segments/s]\u001b[A\n",
            "Aligning d3_k5Xpfmik:  74%|███████▎  | 14/19 [00:00<00:00, 137.51 Segments/s]\u001b[A\n",
            "Overall Progress:  72%|███████▏  | 66/92 [00:10<00:03,  7.31 Computational Sequence Entries/s]\n",
            "  0%|          | 0/43 [00:00<?, ? Segments/s]\u001b[A\n",
            "Aligning d6hH302o4v8:   0%|          | 0/43 [00:00<?, ? Segments/s]\u001b[A\n",
            "Aligning d6hH302o4v8:  47%|████▋     | 20/43 [00:00<00:00, 197.53 Segments/s]\u001b[A\n",
            "Aligning d6hH302o4v8: 100%|██████████| 43/43 [00:00<00:00, 211.56 Segments/s]\u001b[A\n",
            "Overall Progress:  73%|███████▎  | 67/92 [00:10<00:04,  6.18 Computational Sequence Entries/s]\n",
            "  0%|          | 0/15 [00:00<?, ? Segments/s]\u001b[A\n",
            "Aligning dq3Nf_lMPnE:   0%|          | 0/15 [00:00<?, ? Segments/s]\u001b[A\n",
            "                                                                   \u001b[A\n",
            "  0%|          | 0/19 [00:00<?, ? Segments/s]\u001b[A\n",
            "Aligning etzxEpPuc6I:   0%|          | 0/19 [00:00<?, ? Segments/s]\u001b[A\n",
            "Aligning etzxEpPuc6I:  89%|████████▉ | 17/19 [00:00<00:00, 166.44 Segments/s]\u001b[A\n",
            "Overall Progress:  75%|███████▌  | 69/92 [00:11<00:03,  7.02 Computational Sequence Entries/s]\n",
            "  0%|          | 0/30 [00:00<?, ? Segments/s]\u001b[A\n",
            "Aligning f9O3YtZ2VfI:   0%|          | 0/30 [00:00<?, ? Segments/s]\u001b[A\n",
            "Aligning f9O3YtZ2VfI:  73%|███████▎  | 22/30 [00:00<00:00, 217.56 Segments/s]\u001b[A\n",
            "Overall Progress:  76%|███████▌  | 70/92 [00:11<00:03,  6.80 Computational Sequence Entries/s]\n",
            "  0%|          | 0/15 [00:00<?, ? Segments/s]\u001b[A\n",
            "Aligning f_pcplsH_V0:   0%|          | 0/15 [00:00<?, ? Segments/s]\u001b[A\n",
            "Aligning f_pcplsH_V0: 100%|██████████| 15/15 [00:00<00:00, 145.78 Segments/s]\u001b[A\n",
            "Overall Progress:  77%|███████▋  | 71/92 [00:11<00:02,  7.12 Computational Sequence Entries/s]\n",
            "  0%|          | 0/14 [00:00<?, ? Segments/s]\u001b[A\n",
            "Aligning fvVhgmXxadc:   0%|          | 0/14 [00:00<?, ? Segments/s]\u001b[A\n",
            "Overall Progress:  78%|███████▊  | 72/92 [00:11<00:02,  7.62 Computational Sequence Entries/s]\n",
            "  0%|          | 0/18 [00:00<?, ? Segments/s]\u001b[A\n",
            "Aligning iiK8YX8oH1E:   0%|          | 0/18 [00:00<?, ? Segments/s]\u001b[A\n",
            "Overall Progress:  79%|███████▉  | 73/92 [00:11<00:02,  8.13 Computational Sequence Entries/s]\n",
            "  0%|          | 0/27 [00:00<?, ? Segments/s]\u001b[A\n",
            "Aligning jUzDDGyPkXU:   0%|          | 0/27 [00:00<?, ? Segments/s]\u001b[A\n",
            "Aligning jUzDDGyPkXU:  78%|███████▊  | 21/27 [00:00<00:00, 202.38 Segments/s]\u001b[A\n",
            "Overall Progress:  80%|████████  | 74/92 [00:11<00:02,  7.61 Computational Sequence Entries/s]\n",
            "  0%|          | 0/31 [00:00<?, ? Segments/s]\u001b[A\n",
            "Aligning k5Y_838nuGo:   0%|          | 0/31 [00:00<?, ? Segments/s]\u001b[A\n",
            "Aligning k5Y_838nuGo:  77%|███████▋  | 24/31 [00:00<00:00, 235.67 Segments/s]\u001b[A\n",
            "Overall Progress:  82%|████████▏ | 75/92 [00:11<00:02,  7.25 Computational Sequence Entries/s]\n",
            "  0%|          | 0/30 [00:00<?, ? Segments/s]\u001b[A\n",
            "Aligning lXPQBPVc5Cw:   0%|          | 0/30 [00:00<?, ? Segments/s]\u001b[A\n",
            "Aligning lXPQBPVc5Cw:  63%|██████▎   | 19/30 [00:00<00:00, 184.12 Segments/s]\u001b[A\n",
            "Overall Progress:  83%|████████▎ | 76/92 [00:12<00:02,  6.75 Computational Sequence Entries/s]\n",
            "  0%|          | 0/10 [00:00<?, ? Segments/s]\u001b[A\n",
            "Aligning nbWiPyCm4g0:   0%|          | 0/10 [00:00<?, ? Segments/s]\u001b[A\n",
            "                                                                   \u001b[A\n",
            "  0%|          | 0/24 [00:00<?, ? Segments/s]\u001b[A\n",
            "Aligning nzpVDcQ0ywM:   0%|          | 0/24 [00:00<?, ? Segments/s]\u001b[A\n",
            "Aligning nzpVDcQ0ywM:  88%|████████▊ | 21/24 [00:00<00:00, 209.11 Segments/s]\u001b[A\n",
            "Overall Progress:  85%|████████▍ | 78/92 [00:12<00:01,  7.84 Computational Sequence Entries/s]\n",
            "  0%|          | 0/14 [00:00<?, ? Segments/s]\u001b[A\n",
            "Aligning ob23OKe5a9Q:   0%|          | 0/14 [00:00<?, ? Segments/s]\u001b[A\n",
            "                                                                   \u001b[A\n",
            "  0%|          | 0/16 [00:00<?, ? Segments/s]\u001b[A\n",
            "Aligning pLTX3ipuDJI:   0%|          | 0/16 [00:00<?, ? Segments/s]\u001b[A\n",
            "Overall Progress:  87%|████████▋ | 80/92 [00:12<00:01,  8.59 Computational Sequence Entries/s]\n",
            "  0%|          | 0/21 [00:00<?, ? Segments/s]\u001b[A\n",
            "Aligning phBUpBr1hSo:   0%|          | 0/21 [00:00<?, ? Segments/s]\u001b[A\n",
            "Aligning phBUpBr1hSo:  71%|███████▏  | 15/21 [00:00<00:00, 143.47 Segments/s]\u001b[A\n",
            "Overall Progress:  88%|████████▊ | 81/92 [00:12<00:01,  7.94 Computational Sequence Entries/s]\n",
            "  0%|          | 0/22 [00:00<?, ? Segments/s]\u001b[A\n",
            "Aligning rnaNMUZpvvg:   0%|          | 0/22 [00:00<?, ? Segments/s]\u001b[A\n",
            "Aligning rnaNMUZpvvg:  59%|█████▉    | 13/22 [00:00<00:00, 127.98 Segments/s]\u001b[A\n",
            "Overall Progress:  89%|████████▉ | 82/92 [00:12<00:01,  7.33 Computational Sequence Entries/s]\n",
            "  0%|          | 0/18 [00:00<?, ? Segments/s]\u001b[A\n",
            "Aligning tIrG4oNLFzE:   0%|          | 0/18 [00:00<?, ? Segments/s]\u001b[A\n",
            "Aligning tIrG4oNLFzE:  72%|███████▏  | 13/18 [00:00<00:00, 121.52 Segments/s]\u001b[A\n",
            "Overall Progress:  90%|█████████ | 83/92 [00:12<00:01,  6.94 Computational Sequence Entries/s]\n",
            "  0%|          | 0/16 [00:00<?, ? Segments/s]\u001b[A\n",
            "Aligning tStelxIAHjw:   0%|          | 0/16 [00:00<?, ? Segments/s]\u001b[A\n",
            "Overall Progress:  91%|█████████▏| 84/92 [00:13<00:01,  7.43 Computational Sequence Entries/s]\n",
            "  0%|          | 0/20 [00:00<?, ? Segments/s]\u001b[A\n",
            "Aligning tmZoasNr4rU:   0%|          | 0/20 [00:00<?, ? Segments/s]\u001b[A\n",
            "Aligning tmZoasNr4rU:  70%|███████   | 14/20 [00:00<00:00, 133.71 Segments/s]\u001b[A\n",
            "Overall Progress:  92%|█████████▏| 85/92 [00:13<00:01,  6.86 Computational Sequence Entries/s]\n",
            "  0%|          | 0/16 [00:00<?, ? Segments/s]\u001b[A\n",
            "Aligning v0zCBqDeKcE:   0%|          | 0/16 [00:00<?, ? Segments/s]\u001b[A\n",
            "Aligning v0zCBqDeKcE:  94%|█████████▍| 15/16 [00:00<00:00, 148.55 Segments/s]\u001b[A\n",
            "Overall Progress:  93%|█████████▎| 86/92 [00:13<00:00,  7.13 Computational Sequence Entries/s]\n",
            "  0%|          | 0/12 [00:00<?, ? Segments/s]\u001b[A\n",
            "Aligning vvZ4IcEtiZc:   0%|          | 0/12 [00:00<?, ? Segments/s]\u001b[A\n",
            "Aligning vvZ4IcEtiZc: 100%|██████████| 12/12 [00:00<00:00, 117.43 Segments/s]\u001b[A\n",
            "Overall Progress:  95%|█████████▍| 87/92 [00:13<00:00,  7.44 Computational Sequence Entries/s]\n",
            "  0%|          | 0/22 [00:00<?, ? Segments/s]\u001b[A\n",
            "Aligning vyB00TXsimI:   0%|          | 0/22 [00:00<?, ? Segments/s]\u001b[A\n",
            "Aligning vyB00TXsimI:  64%|██████▎   | 14/22 [00:00<00:00, 134.28 Segments/s]\u001b[A\n",
            "Overall Progress:  96%|█████████▌| 88/92 [00:13<00:00,  6.86 Computational Sequence Entries/s]\n",
            "  0%|          | 0/30 [00:00<?, ? Segments/s]\u001b[A\n",
            "Aligning wMbj6ajWbic:   0%|          | 0/30 [00:00<?, ? Segments/s]\u001b[A\n",
            "Aligning wMbj6ajWbic:  73%|███████▎  | 22/30 [00:00<00:00, 215.19 Segments/s]\u001b[A\n",
            "Overall Progress:  97%|█████████▋| 89/92 [00:13<00:00,  6.69 Computational Sequence Entries/s]\n",
            "  0%|          | 0/24 [00:00<?, ? Segments/s]\u001b[A\n",
            "Aligning yDtzw_Y-7RU:   0%|          | 0/24 [00:00<?, ? Segments/s]\u001b[A\n",
            "Aligning yDtzw_Y-7RU:  79%|███████▉  | 19/24 [00:00<00:00, 185.71 Segments/s]\u001b[A\n",
            "Overall Progress:  98%|█████████▊| 90/92 [00:14<00:00,  6.67 Computational Sequence Entries/s]\n",
            "  0%|          | 0/23 [00:00<?, ? Segments/s]\u001b[A\n",
            "Aligning yvsjCA6Y5Fc:   0%|          | 0/23 [00:00<?, ? Segments/s]\u001b[A\n",
            "Aligning yvsjCA6Y5Fc:  78%|███████▊  | 18/23 [00:00<00:00, 177.08 Segments/s]\u001b[A\n",
            "Overall Progress:  99%|█████████▉| 91/92 [00:14<00:00,  6.67 Computational Sequence Entries/s]\n",
            "  0%|          | 0/35 [00:00<?, ? Segments/s]\u001b[A\n",
            "Aligning zhpQhgha_KU:   0%|          | 0/35 [00:00<?, ? Segments/s]\u001b[A\n",
            "Aligning zhpQhgha_KU:  57%|█████▋    | 20/35 [00:00<00:00, 199.56 Segments/s]\u001b[A\n"
          ]
        },
        {
          "output_type": "stream",
          "name": "stdout",
          "text": [
            "\u001b[92m\u001b[1m[2024-08-01 20:14:20.899] | Success | \u001b[0mAlignment to <Opinion Segment Labels> complete.\n",
            "\u001b[94m\u001b[1m[2024-08-01 20:14:20.899] | Status  | \u001b[0mReplacing dataset content with aligned computational sequences\n",
            "\u001b[92m\u001b[1m[2024-08-01 20:14:20.929] | Success | \u001b[0mInitialized empty <glove_vectors> computational sequence.\n",
            "\u001b[94m\u001b[1m[2024-08-01 20:14:20.930] | Status  | \u001b[0mChecking the format of the data in <glove_vectors> computational sequence ...\n"
          ]
        },
        {
          "output_type": "stream",
          "name": "stderr",
          "text": []
        },
        {
          "output_type": "stream",
          "name": "stdout",
          "text": [
            "\u001b[92m\u001b[1m[2024-08-01 20:14:20.947] | Success | \u001b[0m<glove_vectors> computational sequence data in correct format.\n",
            "\u001b[94m\u001b[1m[2024-08-01 20:14:20.949] | Status  | \u001b[0mChecking the format of the metadata in <glove_vectors> computational sequence ...\n",
            "\u001b[93m\u001b[1m[2024-08-01 20:14:20.951] | Warning | \u001b[0m<glove_vectors> computational sequence does not have all the required metadata ... continuing \n",
            "\u001b[92m\u001b[1m[2024-08-01 20:14:20.951] | Success | \u001b[0mInitialized empty <FACET_4.1> computational sequence.\n",
            "\u001b[94m\u001b[1m[2024-08-01 20:14:20.951] | Status  | \u001b[0mChecking the format of the data in <FACET_4.1> computational sequence ...\n"
          ]
        },
        {
          "output_type": "stream",
          "name": "stderr",
          "text": []
        },
        {
          "output_type": "stream",
          "name": "stdout",
          "text": [
            "\u001b[92m\u001b[1m[2024-08-01 20:14:20.965] | Success | \u001b[0m<FACET_4.1> computational sequence data in correct format.\n",
            "\u001b[94m\u001b[1m[2024-08-01 20:14:20.966] | Status  | \u001b[0mChecking the format of the metadata in <FACET_4.1> computational sequence ...\n",
            "\u001b[93m\u001b[1m[2024-08-01 20:14:20.966] | Warning | \u001b[0m<FACET_4.1> computational sequence does not have all the required metadata ... continuing \n",
            "\u001b[92m\u001b[1m[2024-08-01 20:14:20.966] | Success | \u001b[0mInitialized empty <FACET_4.2> computational sequence.\n",
            "\u001b[94m\u001b[1m[2024-08-01 20:14:20.966] | Status  | \u001b[0mChecking the format of the data in <FACET_4.2> computational sequence ...\n"
          ]
        },
        {
          "output_type": "stream",
          "name": "stderr",
          "text": []
        },
        {
          "output_type": "stream",
          "name": "stdout",
          "text": [
            "\u001b[92m\u001b[1m[2024-08-01 20:14:20.981] | Success | \u001b[0m<FACET_4.2> computational sequence data in correct format.\n",
            "\u001b[94m\u001b[1m[2024-08-01 20:14:20.981] | Status  | \u001b[0mChecking the format of the metadata in <FACET_4.2> computational sequence ...\n",
            "\u001b[93m\u001b[1m[2024-08-01 20:14:20.981] | Warning | \u001b[0m<FACET_4.2> computational sequence does not have all the required metadata ... continuing \n",
            "\u001b[92m\u001b[1m[2024-08-01 20:14:20.981] | Success | \u001b[0mInitialized empty <OpenSmile-emobase2010> computational sequence.\n",
            "\u001b[94m\u001b[1m[2024-08-01 20:14:20.981] | Status  | \u001b[0mChecking the format of the data in <OpenSmile-emobase2010> computational sequence ...\n"
          ]
        },
        {
          "output_type": "stream",
          "name": "stderr",
          "text": []
        },
        {
          "output_type": "stream",
          "name": "stdout",
          "text": [
            "\u001b[92m\u001b[1m[2024-08-01 20:14:21.005] | Success | \u001b[0m<OpenSmile-emobase2010> computational sequence data in correct format.\n",
            "\u001b[94m\u001b[1m[2024-08-01 20:14:21.006] | Status  | \u001b[0mChecking the format of the metadata in <OpenSmile-emobase2010> computational sequence ...\n",
            "\u001b[93m\u001b[1m[2024-08-01 20:14:21.007] | Warning | \u001b[0m<OpenSmile-emobase2010> computational sequence does not have all the required metadata ... continuing \n",
            "\u001b[92m\u001b[1m[2024-08-01 20:14:21.007] | Success | \u001b[0mInitialized empty <OpenSMILE> computational sequence.\n",
            "\u001b[94m\u001b[1m[2024-08-01 20:14:21.007] | Status  | \u001b[0mChecking the format of the data in <OpenSMILE> computational sequence ...\n"
          ]
        },
        {
          "output_type": "stream",
          "name": "stderr",
          "text": []
        },
        {
          "output_type": "stream",
          "name": "stdout",
          "text": [
            "\u001b[92m\u001b[1m[2024-08-01 20:14:21.031] | Success | \u001b[0m<OpenSMILE> computational sequence data in correct format.\n",
            "\u001b[94m\u001b[1m[2024-08-01 20:14:21.032] | Status  | \u001b[0mChecking the format of the metadata in <OpenSMILE> computational sequence ...\n",
            "\u001b[93m\u001b[1m[2024-08-01 20:14:21.032] | Warning | \u001b[0m<OpenSMILE> computational sequence does not have all the required metadata ... continuing \n",
            "\u001b[92m\u001b[1m[2024-08-01 20:14:21.032] | Success | \u001b[0mInitialized empty <OpenFace_1> computational sequence.\n",
            "\u001b[94m\u001b[1m[2024-08-01 20:14:21.032] | Status  | \u001b[0mChecking the format of the data in <OpenFace_1> computational sequence ...\n"
          ]
        },
        {
          "output_type": "stream",
          "name": "stderr",
          "text": []
        },
        {
          "output_type": "stream",
          "name": "stdout",
          "text": [
            "\u001b[92m\u001b[1m[2024-08-01 20:14:21.055] | Success | \u001b[0m<OpenFace_1> computational sequence data in correct format.\n",
            "\u001b[94m\u001b[1m[2024-08-01 20:14:21.056] | Status  | \u001b[0mChecking the format of the metadata in <OpenFace_1> computational sequence ...\n",
            "\u001b[93m\u001b[1m[2024-08-01 20:14:21.056] | Warning | \u001b[0m<OpenFace_1> computational sequence does not have all the required metadata ... continuing \n",
            "\u001b[92m\u001b[1m[2024-08-01 20:14:21.056] | Success | \u001b[0mInitialized empty <OpenFace_2> computational sequence.\n",
            "\u001b[94m\u001b[1m[2024-08-01 20:14:21.056] | Status  | \u001b[0mChecking the format of the data in <OpenFace_2> computational sequence ...\n"
          ]
        },
        {
          "output_type": "stream",
          "name": "stderr",
          "text": []
        },
        {
          "output_type": "stream",
          "name": "stdout",
          "text": [
            "\u001b[92m\u001b[1m[2024-08-01 20:14:21.066] | Success | \u001b[0m<OpenFace_2> computational sequence data in correct format.\n",
            "\u001b[94m\u001b[1m[2024-08-01 20:14:21.067] | Status  | \u001b[0mChecking the format of the metadata in <OpenFace_2> computational sequence ...\n",
            "\u001b[93m\u001b[1m[2024-08-01 20:14:21.067] | Warning | \u001b[0m<OpenFace_2> computational sequence does not have all the required metadata ... continuing \n",
            "\u001b[92m\u001b[1m[2024-08-01 20:14:21.067] | Success | \u001b[0mInitialized empty <COVAREP> computational sequence.\n",
            "\u001b[94m\u001b[1m[2024-08-01 20:14:21.067] | Status  | \u001b[0mChecking the format of the data in <COVAREP> computational sequence ...\n"
          ]
        },
        {
          "output_type": "stream",
          "name": "stderr",
          "text": []
        },
        {
          "output_type": "stream",
          "name": "stdout",
          "text": [
            "\u001b[92m\u001b[1m[2024-08-01 20:14:21.096] | Success | \u001b[0m<COVAREP> computational sequence data in correct format.\n",
            "\u001b[94m\u001b[1m[2024-08-01 20:14:21.096] | Status  | \u001b[0mChecking the format of the metadata in <COVAREP> computational sequence ...\n",
            "\u001b[93m\u001b[1m[2024-08-01 20:14:21.096] | Warning | \u001b[0m<COVAREP> computational sequence does not have all the required metadata ... continuing \n",
            "\u001b[92m\u001b[1m[2024-08-01 20:14:21.096] | Success | \u001b[0mInitialized empty <Opinion Segment Labels> computational sequence.\n",
            "\u001b[94m\u001b[1m[2024-08-01 20:14:21.096] | Status  | \u001b[0mChecking the format of the data in <Opinion Segment Labels> computational sequence ...\n"
          ]
        },
        {
          "output_type": "stream",
          "name": "stderr",
          "text": [
            "                                                                     "
          ]
        },
        {
          "output_type": "stream",
          "name": "stdout",
          "text": [
            "\u001b[92m\u001b[1m[2024-08-01 20:14:21.115] | Success | \u001b[0m<Opinion Segment Labels> computational sequence data in correct format.\n",
            "\u001b[94m\u001b[1m[2024-08-01 20:14:21.115] | Status  | \u001b[0mChecking the format of the metadata in <Opinion Segment Labels> computational sequence ...\n",
            "\u001b[93m\u001b[1m[2024-08-01 20:14:21.115] | Warning | \u001b[0m<Opinion Segment Labels> computational sequence does not have all the required metadata ... continuing \n"
          ]
        },
        {
          "output_type": "stream",
          "name": "stderr",
          "text": [
            "\r"
          ]
        }
      ]
    },
    {
      "cell_type": "code",
      "source": [
        "# Check the type and structure of opinion_segment_labels\n",
        "print(type(opinion_segment_labels))\n",
        "print(opinion_segment_labels)\n"
      ],
      "metadata": {
        "colab": {
          "base_uri": "https://localhost:8080/"
        },
        "id": "cYDPOmIjoCRs",
        "outputId": "e45e88f7-4ff1-4a3b-f4de-65f76d5f2c81"
      },
      "execution_count": null,
      "outputs": [
        {
          "output_type": "stream",
          "name": "stdout",
          "text": [
            "<class 'mmsdk.mmdatasdk.computational_sequence.computational_sequence.computational_sequence'>\n",
            "<mmsdk.mmdatasdk.computational_sequence.computational_sequence.computational_sequence object at 0x78475b53a890>\n"
          ]
        }
      ]
    },
    {
      "cell_type": "code",
      "source": [
        "# List all methods and attributes of the ComputationalSequence object\n",
        "print(dir(opinion_segment_labels))\n"
      ],
      "metadata": {
        "id": "sCuWrLnspr_f",
        "outputId": "0c9f001d-c101-4def-c871-3a2f9d9d8e3b",
        "colab": {
          "base_uri": "https://localhost:8080/"
        }
      },
      "execution_count": null,
      "outputs": [
        {
          "output_type": "stream",
          "name": "stdout",
          "text": [
            "['__class__', '__delattr__', '__dict__', '__dir__', '__doc__', '__eq__', '__format__', '__ge__', '__getattribute__', '__getitem__', '__gt__', '__hash__', '__init__', '__init_subclass__', '__le__', '__lt__', '__module__', '__ne__', '__new__', '__reduce__', '__reduce_ex__', '__repr__', '__setattr__', '__setitem__', '__sizeof__', '__str__', '__subclasshook__', '__weakref__', '_compare_entries', '_computational_sequence__check_format', '_computational_sequence__initialize', '_computational_sequence__initialize_blank', '_computational_sequence__initialize_from_csd', '_get_entries_stripped', '_remove_id', 'bib_citations', 'completeAllMissingMetadata', 'complete_all_missing_metadata', 'data', 'deploy', 'h5handle', 'keys', 'main_file', 'metadata', 'rootName', 'root_name', 'setData', 'setMetadata', 'set_data', 'set_metadata']\n"
          ]
        }
      ]
    },
    {
      "cell_type": "code",
      "source": [
        "import pandas as pd\n",
        "import matplotlib.pyplot as plt\n",
        "\n",
        "# Access the data (replace with actual method or attribute if different)\n",
        "if hasattr(opinion_segment_labels, 'data'):\n",
        "    data = opinion_segment_labels.data\n",
        "elif hasattr(opinion_segment_labels, 'get_data'):\n",
        "    data = opinion_segment_labels.get_data()\n",
        "else:\n",
        "    raise AttributeError(\"No method to access data found in ComputationalSequence object\")\n",
        "\n",
        "# Check the type and structure of the extracted data\n",
        "print(type(data))\n",
        "print(data)\n",
        "\n",
        "# Convert to DataFrame if it's a list or dict\n",
        "if isinstance(data, (list, dict)):\n",
        "    df = pd.DataFrame(data)\n",
        "elif hasattr(data, 'to_dataframe'):\n",
        "    df = data.to_dataframe()\n",
        "else:\n",
        "    raise ValueError(\"Data is in an unsupported format\")\n",
        "\n",
        "# Display the first few rows of the DataFrame\n",
        "print(df.head())\n",
        "\n",
        "# Assuming proper columns are available\n",
        "if 'sentiment_score' in df.columns and 'opinion_segment' in df.columns:\n",
        "    # Calculate average sentiment score for each segment\n",
        "    avg_sentiment = df.groupby('opinion_segment')['sentiment_score'].mean().reset_index()\n",
        "\n",
        "    # Plot the data\n",
        "    plt.figure(figsize=(10, 6))\n",
        "    plt.bar(avg_sentiment['opinion_segment'], avg_sentiment['sentiment_score'])\n",
        "    plt.title('Average Sentiment Score by Opinion Segment')\n",
        "    plt.xlabel('Opinion Segment')\n",
        "    plt.ylabel('Average Sentiment Score')\n",
        "    plt.xticks(rotation=45)\n",
        "    plt.tight_layout()\n",
        "    plt.show()\n",
        "else:\n",
        "    print(\"Columns 'sentiment_score' and 'opinion_segment' not found in DataFrame\")\n"
      ],
      "metadata": {
        "id": "sr76FMdYpwhc",
        "outputId": "2922c854-f4d3-48fa-a418-882f391e0760",
        "colab": {
          "base_uri": "https://localhost:8080/"
        }
      },
      "execution_count": null,
      "outputs": [
        {
          "output_type": "stream",
          "name": "stdout",
          "text": [
            "<class 'dict'>\n",
            "{'2WGyTLYerpo[0]': {'intervals': array([[0.01247166, 2.1376417 ]], dtype=float32), 'features': array([[2.]], dtype=float32)}, '2WGyTLYerpo[1]': {'intervals': array([[2.1376417, 2.8061225]], dtype=float32), 'features': array([[0.4]], dtype=float32)}, '2WGyTLYerpo[2]': {'intervals': array([[2.8061225, 7.5752835]], dtype=float32), 'features': array([[0.]], dtype=float32)}, '2WGyTLYerpo[3]': {'intervals': array([[ 7.5752835, 14.2800455]], dtype=float32), 'features': array([[-0.4]], dtype=float32)}, '2WGyTLYerpo[4]': {'intervals': array([[14.2800455, 18.091383 ]], dtype=float32), 'features': array([[0.]], dtype=float32)}, '2WGyTLYerpo[5]': {'intervals': array([[18.091383, 20.007029]], dtype=float32), 'features': array([[2.4]], dtype=float32)}, '2WGyTLYerpo[6]': {'intervals': array([[20.007029, 21.882767]], dtype=float32), 'features': array([[1.6]], dtype=float32)}, '2WGyTLYerpo[7]': {'intervals': array([[21.882767, 23.459183]], dtype=float32), 'features': array([[1.8]], dtype=float32)}, '2WGyTLYerpo[8]': {'intervals': array([[23.459183, 31.640589]], dtype=float32), 'features': array([[-0.4]], dtype=float32)}, '2WGyTLYerpo[9]': {'intervals': array([[37.357597, 38.71451 ]], dtype=float32), 'features': array([[0.8]], dtype=float32)}, '2WGyTLYerpo[10]': {'intervals': array([[38.71451 , 41.937187]], dtype=float32), 'features': array([[2.2]], dtype=float32)}, '2WGyTLYerpo[11]': {'intervals': array([[41.937187, 43.523582]], dtype=float32), 'features': array([[1.2]], dtype=float32)}, '2WGyTLYerpo[12]': {'intervals': array([[43.523582, 47.773922]], dtype=float32), 'features': array([[2.]], dtype=float32)}, '2WGyTLYerpo[13]': {'intervals': array([[47.773922, 49.21066 ]], dtype=float32), 'features': array([[0.2]], dtype=float32)}, '2WGyTLYerpo[14]': {'intervals': array([[49.21066 , 50.028797]], dtype=float32), 'features': array([[0.5]], dtype=float32)}, '2WGyTLYerpo[15]': {'intervals': array([[50.028797, 52.533108]], dtype=float32), 'features': array([[2.]], dtype=float32)}, '2WGyTLYerpo[16]': {'intervals': array([[52.533108, 55.077324]], dtype=float32), 'features': array([[2.6]], dtype=float32)}, '2WGyTLYerpo[17]': {'intervals': array([[55.077324, 56.384354]], dtype=float32), 'features': array([[2.2]], dtype=float32)}, '2WGyTLYerpo[18]': {'intervals': array([[57.900906, 63.55805 ]], dtype=float32), 'features': array([[1.4]], dtype=float32)}, '2WGyTLYerpo[19]': {'intervals': array([[63.55805, 64.55578]], dtype=float32), 'features': array([[1.]], dtype=float32)}, '2WGyTLYerpo[20]': {'intervals': array([[64.55578, 65.53356]], dtype=float32), 'features': array([[0.8]], dtype=float32)}, '2WGyTLYerpo[21]': {'intervals': array([[65.53356, 66.93038]], dtype=float32), 'features': array([[-0.8]], dtype=float32)}, '2WGyTLYerpo[22]': {'intervals': array([[66.93038, 68.36712]], dtype=float32), 'features': array([[0.]], dtype=float32)}, '2WGyTLYerpo[23]': {'intervals': array([[68.36712, 79.34218]], dtype=float32), 'features': array([[1.6]], dtype=float32)}, '2WGyTLYerpo[24]': {'intervals': array([[79.34218, 80.5195 ]], dtype=float32), 'features': array([[1.8]], dtype=float32)}, '2WGyTLYerpo[25]': {'intervals': array([[80.5195 , 83.26327]], dtype=float32), 'features': array([[1.8]], dtype=float32)}, '2WGyTLYerpo[26]': {'intervals': array([[83.26327, 85.0093 ]], dtype=float32), 'features': array([[1.8]], dtype=float32)}, '2WGyTLYerpo[27]': {'intervals': array([[85.0093 , 87.31406]], dtype=float32), 'features': array([[2.4]], dtype=float32)}, '2WGyTLYerpo[28]': {'intervals': array([[87.31406 , 90.077774]], dtype=float32), 'features': array([[0.6]], dtype=float32)}, '2WGyTLYerpo[29]': {'intervals': array([[90.077774, 91.75397 ]], dtype=float32), 'features': array([[-0.2]], dtype=float32)}, '2WGyTLYerpo[30]': {'intervals': array([[91.75397, 93.96893]], dtype=float32), 'features': array([[2.]], dtype=float32)}, '2WGyTLYerpo[31]': {'intervals': array([[93.96893, 95.23605]], dtype=float32), 'features': array([[2.2]], dtype=float32)}, '2WGyTLYerpo[32]': {'intervals': array([[95.23605, 96.85238]], dtype=float32), 'features': array([[1.2]], dtype=float32)}, '2WGyTLYerpo[33]': {'intervals': array([[96.85238 , 98.329025]], dtype=float32), 'features': array([[0.6]], dtype=float32)}, '2WGyTLYerpo[34]': {'intervals': array([[ 98.329025, 100.3644  ]], dtype=float32), 'features': array([[2.2]], dtype=float32)}, '2WGyTLYerpo[35]': {'intervals': array([[100.3644  , 102.309975]], dtype=float32), 'features': array([[1.2]], dtype=float32)}, '2WGyTLYerpo[36]': {'intervals': array([[102.309975, 104.27551 ]], dtype=float32), 'features': array([[1.4]], dtype=float32)}, '2WGyTLYerpo[37]': {'intervals': array([[104.27551, 109.98254]], dtype=float32), 'features': array([[1.]], dtype=float32)}, '2WGyTLYerpo[38]': {'intervals': array([[114.42245, 116.62744]], dtype=float32), 'features': array([[-0.6]], dtype=float32)}, '2WGyTLYerpo[39]': {'intervals': array([[116.62744 , 118.353516]], dtype=float32), 'features': array([[0.6]], dtype=float32)}, '2WGyTLYerpo[40]': {'intervals': array([[118.353516, 121.43651 ]], dtype=float32), 'features': array([[0.6]], dtype=float32)}, '2WGyTLYerpo[41]': {'intervals': array([[121.43651, 122.55397]], dtype=float32), 'features': array([[0.]], dtype=float32)}, '2WGyTLYerpo[42]': {'intervals': array([[122.55397, 126.60476]], dtype=float32), 'features': array([[2.]], dtype=float32)}, '2WGyTLYerpo[44]': {'intervals': array([[127.21338, 129.37846]], dtype=float32), 'features': array([[0.2]], dtype=float32)}, '2WGyTLYerpo[45]': {'intervals': array([[129.37846, 130.6356 ]], dtype=float32), 'features': array([[1.4]], dtype=float32)}, '2WGyTLYerpo[46]': {'intervals': array([[130.69547, 131.83289]], dtype=float32), 'features': array([[0.]], dtype=float32)}, '2WGyTLYerpo[47]': {'intervals': array([[133.02019, 134.04785]], dtype=float32), 'features': array([[-1.]], dtype=float32)}, '2WGyTLYerpo[48]': {'intervals': array([[134.04785, 136.19298]], dtype=float32), 'features': array([[-0.6]], dtype=float32)}, '2WGyTLYerpo[49]': {'intervals': array([[136.19298, 137.8093 ]], dtype=float32), 'features': array([[-1.8]], dtype=float32)}, '2WGyTLYerpo[50]': {'intervals': array([[137.8093, 143.0873]], dtype=float32), 'features': array([[-0.6]], dtype=float32)}, '2WGyTLYerpo[51]': {'intervals': array([[143.0873, 144.3644]], dtype=float32), 'features': array([[0.]], dtype=float32)}, '2WGyTLYerpo[52]': {'intervals': array([[148.18571, 149.68231]], dtype=float32), 'features': array([[-1.]], dtype=float32)}, '2WGyTLYerpo[53]': {'intervals': array([[149.68231, 151.54807]], dtype=float32), 'features': array([[-2.]], dtype=float32)}, '2WGyTLYerpo[54]': {'intervals': array([[151.54807, 157.04558]], dtype=float32), 'features': array([[-1.]], dtype=float32)}, '2WGyTLYerpo[55]': {'intervals': array([[157.04558, 161.76485]], dtype=float32), 'features': array([[-0.4]], dtype=float32)}, '2WGyTLYerpo[56]': {'intervals': array([[161.76485, 166.53401]], dtype=float32), 'features': array([[-1.6]], dtype=float32)}, '2WGyTLYerpo[57]': {'intervals': array([[166.53401, 170.82426]], dtype=float32), 'features': array([[-1.4]], dtype=float32)}, '2WGyTLYerpo[58]': {'intervals': array([[170.39523, 172.47052]], dtype=float32), 'features': array([[2.]], dtype=float32)}, '2WGyTLYerpo[59]': {'intervals': array([[172.47052, 174.20657]], dtype=float32), 'features': array([[2.2]], dtype=float32)}, '2WGyTLYerpo[60]': {'intervals': array([[174.20657, 175.21428]], dtype=float32), 'features': array([[1.4]], dtype=float32)}, '2WGyTLYerpo[61]': {'intervals': array([[175.21428, 176.222  ]], dtype=float32), 'features': array([[2.2]], dtype=float32)}, '2WGyTLYerpo[62]': {'intervals': array([[176.222  , 179.36485]], dtype=float32), 'features': array([[2.2]], dtype=float32)}, 'BXuRRbG0Ugk[0]': {'intervals': array([[1.2471655e-02, 1.2474150e+01]], dtype=float32), 'features': array([[-1.]], dtype=float32)}, 'BXuRRbG0Ugk[1]': {'intervals': array([[12.47415 , 14.509523]], dtype=float32), 'features': array([[0.8]], dtype=float32)}, 'BXuRRbG0Ugk[2]': {'intervals': array([[14.509523, 15.996145]], dtype=float32), 'features': array([[-0.4]], dtype=float32)}, 'BXuRRbG0Ugk[3]': {'intervals': array([[15.996145, 19.208843]], dtype=float32), 'features': array([[0.]], dtype=float32)}, 'BXuRRbG0Ugk[4]': {'intervals': array([[19.208843, 22.251928]], dtype=float32), 'features': array([[0.]], dtype=float32)}, 'BXuRRbG0Ugk[5]': {'intervals': array([[22.251928, 25.055555]], dtype=float32), 'features': array([[1.4]], dtype=float32)}, 'BXuRRbG0Ugk[6]': {'intervals': array([[25.055555, 31.520863]], dtype=float32), 'features': array([[0.2]], dtype=float32)}, 'BXuRRbG0Ugk[7]': {'intervals': array([[31.520863, 35.531746]], dtype=float32), 'features': array([[1.75]], dtype=float32)}, 'BXuRRbG0Ugk[8]': {'intervals': array([[41.10907, 48.24286]], dtype=float32), 'features': array([[-1.2]], dtype=float32)}, 'BXuRRbG0Ugk[9]': {'intervals': array([[48.24286 , 58.758957]], dtype=float32), 'features': array([[2.4]], dtype=float32)}, 'BXuRRbG0Ugk[10]': {'intervals': array([[58.56939, 62.81973]], dtype=float32), 'features': array([[-1.6]], dtype=float32)}, 'BXuRRbG0Ugk[11]': {'intervals': array([[62.81973, 70.90136]], dtype=float32), 'features': array([[1.2]], dtype=float32)}, 'BXuRRbG0Ugk[12]': {'intervals': array([[70.90136 , 75.800224]], dtype=float32), 'features': array([[0.6]], dtype=float32)}, 'BXuRRbG0Ugk[13]': {'intervals': array([[75.800224, 83.30318 ]], dtype=float32), 'features': array([[-1.6]], dtype=float32)}, 'BXuRRbG0Ugk[14]': {'intervals': array([[83.30318, 85.80748]], dtype=float32), 'features': array([[-0.6]], dtype=float32)}, 'BXuRRbG0Ugk[15]': {'intervals': array([[85.80748, 93.37029]], dtype=float32), 'features': array([[0.]], dtype=float32)}, 'BXuRRbG0Ugk[16]': {'intervals': array([[93.37029, 96.72268]], dtype=float32), 'features': array([[-1.6]], dtype=float32)}, 'BXuRRbG0Ugk[17]': {'intervals': array([[104.41519 , 109.294106]], dtype=float32), 'features': array([[-1.4]], dtype=float32)}, 'BXuRRbG0Ugk[18]': {'intervals': array([[109.294106, 114.80159 ]], dtype=float32), 'features': array([[0.2]], dtype=float32)}, 'BXuRRbG0Ugk[19]': {'intervals': array([[114.80159, 119.58073]], dtype=float32), 'features': array([[-0.4]], dtype=float32)}, 'BXuRRbG0Ugk[20]': {'intervals': array([[119.58073, 126.44512]], dtype=float32), 'features': array([[2.4]], dtype=float32)}, 'BXuRRbG0Ugk[21]': {'intervals': array([[126.44512, 133.06009]], dtype=float32), 'features': array([[0.5]], dtype=float32)}, 'BXuRRbG0Ugk[22]': {'intervals': array([[133.06009, 138.74716]], dtype=float32), 'features': array([[1.4]], dtype=float32)}, 'BXuRRbG0Ugk[23]': {'intervals': array([[138.74716, 142.10953]], dtype=float32), 'features': array([[2.4]], dtype=float32)}, 'BXuRRbG0Ugk[24]': {'intervals': array([[142.10953, 146.0805 ]], dtype=float32), 'features': array([[1.]], dtype=float32)}, 'BXuRRbG0Ugk[25]': {'intervals': array([[146.0805, 152.7254]], dtype=float32), 'features': array([[1.6]], dtype=float32)}, 'BXuRRbG0Ugk[26]': {'intervals': array([[152.7254 , 157.18526]], dtype=float32), 'features': array([[-0.4]], dtype=float32)}, 'BXuRRbG0Ugk[27]': {'intervals': array([[157.18526, 162.80249]], dtype=float32), 'features': array([[1.6]], dtype=float32)}, 'BXuRRbG0Ugk[28]': {'intervals': array([[162.80249, 166.86327]], dtype=float32), 'features': array([[2.]], dtype=float32)}, 'BXuRRbG0Ugk[29]': {'intervals': array([[166.86327, 171.48277]], dtype=float32), 'features': array([[-2.]], dtype=float32)}, 'BXuRRbG0Ugk[30]': {'intervals': array([[171.48277, 179.20522]], dtype=float32), 'features': array([[-0.4]], dtype=float32)}, 'BioHAh1qJAQ[0]': {'intervals': array([[0.01247166, 2.3671203 ]], dtype=float32), 'features': array([[1.4]], dtype=float32)}, 'BioHAh1qJAQ[1]': {'intervals': array([[2.3671203, 7.056463 ]], dtype=float32), 'features': array([[2.2]], dtype=float32)}, 'BioHAh1qJAQ[2]': {'intervals': array([[ 7.056463, 13.531746]], dtype=float32), 'features': array([[0.4]], dtype=float32)}, 'BioHAh1qJAQ[3]': {'intervals': array([[13.531746, 18.600227]], dtype=float32), 'features': array([[0.25]], dtype=float32)}, 'BioHAh1qJAQ[4]': {'intervals': array([[18.600227, 22.900454]], dtype=float32), 'features': array([[1.4]], dtype=float32)}, 'BioHAh1qJAQ[5]': {'intervals': array([[22.900454, 28.597506]], dtype=float32), 'features': array([[-1.8]], dtype=float32)}, 'BioHAh1qJAQ[6]': {'intervals': array([[28.597506, 33.845577]], dtype=float32), 'features': array([[2.6]], dtype=float32)}, 'BioHAh1qJAQ[7]': {'intervals': array([[33.845577, 36.379818]], dtype=float32), 'features': array([[2.4]], dtype=float32)}, 'BioHAh1qJAQ[8]': {'intervals': array([[36.379818, 39.02381 ]], dtype=float32), 'features': array([[2.]], dtype=float32)}, 'BioHAh1qJAQ[9]': {'intervals': array([[39.02381 , 40.600227]], dtype=float32), 'features': array([[1.]], dtype=float32)}, 'BioHAh1qJAQ[10]': {'intervals': array([[40.600227, 43.852833]], dtype=float32), 'features': array([[0.2]], dtype=float32)}, 'BioHAh1qJAQ[11]': {'intervals': array([[46.097733, 49.769386]], dtype=float32), 'features': array([[0.6666667]], dtype=float32)}, 'BioHAh1qJAQ[12]': {'intervals': array([[49.769386, 55.64603 ]], dtype=float32), 'features': array([[1.4]], dtype=float32)}, 'BioHAh1qJAQ[13]': {'intervals': array([[55.64603 , 57.641495]], dtype=float32), 'features': array([[2.6]], dtype=float32)}, 'BioHAh1qJAQ[14]': {'intervals': array([[57.641495, 60.75442 ]], dtype=float32), 'features': array([[-0.4]], dtype=float32)}, 'BioHAh1qJAQ[15]': {'intervals': array([[60.75442, 64.43606]], dtype=float32), 'features': array([[0.25]], dtype=float32)}, 'BioHAh1qJAQ[16]': {'intervals': array([[64.43606 , 67.908165]], dtype=float32), 'features': array([[2.4]], dtype=float32)}, 'BioHAh1qJAQ[17]': {'intervals': array([[67.908165, 71.849205]], dtype=float32), 'features': array([[2.]], dtype=float32)}, 'BioHAh1qJAQ[18]': {'intervals': array([[71.849205, 81.557144]], dtype=float32), 'features': array([[1.8]], dtype=float32)}, 'BioHAh1qJAQ[19]': {'intervals': array([[81.557144, 90.24739 ]], dtype=float32), 'features': array([[-1.4]], dtype=float32)}, 'BioHAh1qJAQ[20]': {'intervals': array([[90.24739 , 93.180725]], dtype=float32), 'features': array([[-0.8]], dtype=float32)}, 'BioHAh1qJAQ[21]': {'intervals': array([[106.87959, 109.12449]], dtype=float32), 'features': array([[-2.2]], dtype=float32)}, 'BioHAh1qJAQ[22]': {'intervals': array([[109.12449, 113.35487]], dtype=float32), 'features': array([[-2.]], dtype=float32)}, 'BioHAh1qJAQ[23]': {'intervals': array([[113.82381, 120.59841]], dtype=float32), 'features': array([[-1.4]], dtype=float32)}, 'BioHAh1qJAQ[24]': {'intervals': array([[120.59841, 121.49637]], dtype=float32), 'features': array([[-1.6]], dtype=float32)}, 'BioHAh1qJAQ[25]': {'intervals': array([[123.73129, 132.98027]], dtype=float32), 'features': array([[0.8]], dtype=float32)}, 'BioHAh1qJAQ[26]': {'intervals': array([[132.98027, 144.61383]], dtype=float32), 'features': array([[0.]], dtype=float32)}, 'BioHAh1qJAQ[27]': {'intervals': array([[144.61383, 150.86961]], dtype=float32), 'features': array([[-2.]], dtype=float32)}, 'BioHAh1qJAQ[28]': {'intervals': array([[159.34036, 160.84694]], dtype=float32), 'features': array([[0.]], dtype=float32)}, 'BioHAh1qJAQ[29]': {'intervals': array([[166.98299, 179.80385]], dtype=float32), 'features': array([[-2.]], dtype=float32)}, 'Dg_0XKD0Mf4[0]': {'intervals': array([[0.01247166, 1.6886622 ]], dtype=float32), 'features': array([[-1.]], dtype=float32)}, 'Dg_0XKD0Mf4[1]': {'intervals': array([[66.97029, 69.5644 ]], dtype=float32), 'features': array([[0.8]], dtype=float32)}, 'Dg_0XKD0Mf4[2]': {'intervals': array([[69.5644 , 71.46009]], dtype=float32), 'features': array([[1.4]], dtype=float32)}, 'Dg_0XKD0Mf4[3]': {'intervals': array([[71.46009, 72.50771]], dtype=float32), 'features': array([[0.2]], dtype=float32)}, 'Dg_0XKD0Mf4[4]': {'intervals': array([[72.50771, 75.40113]], dtype=float32), 'features': array([[1.]], dtype=float32)}, 'Dg_0XKD0Mf4[5]': {'intervals': array([[75.40113, 80.59932]], dtype=float32), 'features': array([[-2.4]], dtype=float32)}, 'Dg_0XKD0Mf4[6]': {'intervals': array([[80.59932 , 83.382996]], dtype=float32), 'features': array([[-1.6]], dtype=float32)}, 'Dg_0XKD0Mf4[7]': {'intervals': array([[83.382996, 84.53039 ]], dtype=float32), 'features': array([[0.4]], dtype=float32)}, 'Dg_0XKD0Mf4[8]': {'intervals': array([[84.53039 , 88.660995]], dtype=float32), 'features': array([[-1.8]], dtype=float32)}, 'Dg_0XKD0Mf4[9]': {'intervals': array([[88.660995, 91.74399 ]], dtype=float32), 'features': array([[-1.6]], dtype=float32)}, 'Dg_0XKD0Mf4[10]': {'intervals': array([[91.45465, 92.99116]], dtype=float32), 'features': array([[1.6]], dtype=float32)}, 'Dg_0XKD0Mf4[11]': {'intervals': array([[ 92.99116, 100.3644 ]], dtype=float32), 'features': array([[1.2]], dtype=float32)}, 'Dg_0XKD0Mf4[12]': {'intervals': array([[100.17483 , 102.309975]], dtype=float32), 'features': array([[-0.6]], dtype=float32)}, 'Dg_0XKD0Mf4[13]': {'intervals': array([[103.24785, 105.09365]], dtype=float32), 'features': array([[-1.]], dtype=float32)}, 'Dg_0XKD0Mf4[14]': {'intervals': array([[105.09365, 107.96712]], dtype=float32), 'features': array([[0.8]], dtype=float32)}, 'Dg_0XKD0Mf4[15]': {'intervals': array([[107.96712 , 110.710884]], dtype=float32), 'features': array([[1.2]], dtype=float32)}, 'Dg_0XKD0Mf4[16]': {'intervals': array([[110.710884, 114.80159 ]], dtype=float32), 'features': array([[0.2]], dtype=float32)}, 'Dg_0XKD0Mf4[17]': {'intervals': array([[114.80159, 116.9068 ]], dtype=float32), 'features': array([[1.4]], dtype=float32)}, 'ZUXBRvtny7o[0]': {'intervals': array([[0.01247166, 6.8768706 ]], dtype=float32), 'features': array([[2.25]], dtype=float32)}, 'ZUXBRvtny7o[1]': {'intervals': array([[6.8768706, 9.850113 ]], dtype=float32), 'features': array([[-1.4]], dtype=float32)}, 'ZUXBRvtny7o[2]': {'intervals': array([[ 9.850113, 13.282313]], dtype=float32), 'features': array([[1.]], dtype=float32)}, 'ZUXBRvtny7o[3]': {'intervals': array([[13.282313, 14.778912]], dtype=float32), 'features': array([[1.8]], dtype=float32)}, 'ZUXBRvtny7o[4]': {'intervals': array([[14.778912, 17.02381 ]], dtype=float32), 'features': array([[1.4]], dtype=float32)}, 'ZUXBRvtny7o[5]': {'intervals': array([[17.02381 , 20.815193]], dtype=float32), 'features': array([[0.4]], dtype=float32)}, 'ZUXBRvtny7o[6]': {'intervals': array([[33.266895, 39.5127  ]], dtype=float32), 'features': array([[2.4]], dtype=float32)}, 'ZUXBRvtny7o[7]': {'intervals': array([[39.5127  , 52.263718]], dtype=float32), 'features': array([[-1.4]], dtype=float32)}, 'ZUXBRvtny7o[8]': {'intervals': array([[52.263718, 55.73583 ]], dtype=float32), 'features': array([[1.4]], dtype=float32)}, 'ZUXBRvtny7o[9]': {'intervals': array([[55.73583, 58.67914]], dtype=float32), 'features': array([[1.25]], dtype=float32)}, 'ZUXBRvtny7o[10]': {'intervals': array([[60.814285, 64.54581 ]], dtype=float32), 'features': array([[2.6]], dtype=float32)}, 'ZUXBRvtny7o[11]': {'intervals': array([[67.21973, 72.86689]], dtype=float32), 'features': array([[1.8]], dtype=float32)}, 'ZUXBRvtny7o[12]': {'intervals': array([[72.86689, 74.52313]], dtype=float32), 'features': array([[2.2]], dtype=float32)}, 'ZUXBRvtny7o[13]': {'intervals': array([[74.52313, 78.03515]], dtype=float32), 'features': array([[2.6]], dtype=float32)}, 'ZUXBRvtny7o[14]': {'intervals': array([[78.03515, 80.19025]], dtype=float32), 'features': array([[0.8]], dtype=float32)}, 'ZUXBRvtny7o[15]': {'intervals': array([[84.92948 , 89.868256]], dtype=float32), 'features': array([[-2.]], dtype=float32)}, 'ZUXBRvtny7o[16]': {'intervals': array([[ 89.868256, 103.56712 ]], dtype=float32), 'features': array([[1.6]], dtype=float32)}, 'ZUXBRvtny7o[17]': {'intervals': array([[103.56712, 107.78753]], dtype=float32), 'features': array([[2.]], dtype=float32)}, 'ZUXBRvtny7o[18]': {'intervals': array([[107.78753 , 109.922676]], dtype=float32), 'features': array([[0.]], dtype=float32)}, 'ZUXBRvtny7o[19]': {'intervals': array([[109.922676, 114.18299 ]], dtype=float32), 'features': array([[0.25]], dtype=float32)}, 'ZUXBRvtny7o[20]': {'intervals': array([[114.18299, 117.5254 ]], dtype=float32), 'features': array([[2.]], dtype=float32)}, 'ZUXBRvtny7o[21]': {'intervals': array([[117.5254 , 119.31134]], dtype=float32), 'features': array([[0.75]], dtype=float32)}, 'ZUXBRvtny7o[22]': {'intervals': array([[117.94444, 119.31134]], dtype=float32), 'features': array([[0.8]], dtype=float32)}, 'ZUXBRvtny7o[23]': {'intervals': array([[120.7381 , 124.07052]], dtype=float32), 'features': array([[2.]], dtype=float32)}, 'ZUXBRvtny7o[24]': {'intervals': array([[124.07052, 128.93945]], dtype=float32), 'features': array([[1.8]], dtype=float32)}, 'ZUXBRvtny7o[25]': {'intervals': array([[124.07052, 137.35034]], dtype=float32), 'features': array([[2.2]], dtype=float32)}, 'ZUXBRvtny7o[26]': {'intervals': array([[137.35034, 139.04648]], dtype=float32), 'features': array([[1.3333334]], dtype=float32)}, 'ZUXBRvtny7o[27]': {'intervals': array([[139.04648, 144.42427]], dtype=float32), 'features': array([[-1.2]], dtype=float32)}, 'ZUXBRvtny7o[28]': {'intervals': array([[144.42427, 146.00069]], dtype=float32), 'features': array([[2.2]], dtype=float32)}, 'ZUXBRvtny7o[29]': {'intervals': array([[146.00069, 152.68549]], dtype=float32), 'features': array([[0.4]], dtype=float32)}, 'ZUXBRvtny7o[30]': {'intervals': array([[156.96576, 160.5077 ]], dtype=float32), 'features': array([[1.4]], dtype=float32)}, 'ZUXBRvtny7o[31]': {'intervals': array([[160.5077, 172.0415]], dtype=float32), 'features': array([[0.4]], dtype=float32)}, 'ZUXBRvtny7o[32]': {'intervals': array([[172.0415 , 174.03696]], dtype=float32), 'features': array([[0.8]], dtype=float32)}, 'ZUXBRvtny7o[33]': {'intervals': array([[174.03696, 179.97346]], dtype=float32), 'features': array([[2.4]], dtype=float32)}, 'rnaNMUZpvvg[0]': {'intervals': array([[0.01247166, 4.242857  ]], dtype=float32), 'features': array([[-2.6]], dtype=float32)}, 'rnaNMUZpvvg[1]': {'intervals': array([[6.6573696, 8.503175 ]], dtype=float32), 'features': array([[2.25]], dtype=float32)}, 'rnaNMUZpvvg[2]': {'intervals': array([[ 8.503175, 10.04966 ]], dtype=float32), 'features': array([[-0.8]], dtype=float32)}, 'rnaNMUZpvvg[3]': {'intervals': array([[10.04966 , 25.354876]], dtype=float32), 'features': array([[-2.4]], dtype=float32)}, 'rnaNMUZpvvg[4]': {'intervals': array([[25.41474 , 28.926758]], dtype=float32), 'features': array([[-2.8]], dtype=float32)}, 'rnaNMUZpvvg[5]': {'intervals': array([[28.926758, 31.131746]], dtype=float32), 'features': array([[-2.6]], dtype=float32)}, 'rnaNMUZpvvg[6]': {'intervals': array([[31.131746, 33.137188]], dtype=float32), 'features': array([[-0.4]], dtype=float32)}, 'rnaNMUZpvvg[7]': {'intervals': array([[35.44195, 38.4551 ]], dtype=float32), 'features': array([[-1.6]], dtype=float32)}, 'rnaNMUZpvvg[8]': {'intervals': array([[38.185715, 44.70091 ]], dtype=float32), 'features': array([[-1.4]], dtype=float32)}, 'rnaNMUZpvvg[9]': {'intervals': array([[44.70091, 46.58662]], dtype=float32), 'features': array([[-2.6]], dtype=float32)}, 'rnaNMUZpvvg[10]': {'intervals': array([[46.58662, 50.47778]], dtype=float32), 'features': array([[-2.6]], dtype=float32)}, 'rnaNMUZpvvg[11]': {'intervals': array([[50.068707, 54.468708]], dtype=float32), 'features': array([[-1.]], dtype=float32)}, 'rnaNMUZpvvg[12]': {'intervals': array([[54.12948 , 56.673695]], dtype=float32), 'features': array([[-2.]], dtype=float32)}, 'rnaNMUZpvvg[13]': {'intervals': array([[63.33855, 69.04558]], dtype=float32), 'features': array([[-2.6]], dtype=float32)}, 'rnaNMUZpvvg[14]': {'intervals': array([[69.04558, 78.50408]], dtype=float32), 'features': array([[-1.6]], dtype=float32)}, 'rnaNMUZpvvg[15]': {'intervals': array([[90.12766, 91.53447]], dtype=float32), 'features': array([[-1.8]], dtype=float32)}, 'rnaNMUZpvvg[16]': {'intervals': array([[114.87143, 116.71723]], dtype=float32), 'features': array([[-1.6]], dtype=float32)}, 'rnaNMUZpvvg[17]': {'intervals': array([[116.71723, 128.82971]], dtype=float32), 'features': array([[-2.2]], dtype=float32)}, 'rnaNMUZpvvg[18]': {'intervals': array([[129.21883, 134.42699]], dtype=float32), 'features': array([[-1.4]], dtype=float32)}, 'rnaNMUZpvvg[19]': {'intervals': array([[134.42699, 145.50182]], dtype=float32), 'features': array([[0.8]], dtype=float32)}, 'rnaNMUZpvvg[20]': {'intervals': array([[145.50182, 151.45828]], dtype=float32), 'features': array([[-2.6]], dtype=float32)}, 'rnaNMUZpvvg[21]': {'intervals': array([[154.60114, 161.2161 ]], dtype=float32), 'features': array([[-2.2]], dtype=float32)}, 'yvsjCA6Y5Fc[0]': {'intervals': array([[0.01247166, 8.004309  ]], dtype=float32), 'features': array([[-2.]], dtype=float32)}, 'yvsjCA6Y5Fc[1]': {'intervals': array([[ 8.004309, 10.668254]], dtype=float32), 'features': array([[-1.2]], dtype=float32)}, 'yvsjCA6Y5Fc[2]': {'intervals': array([[23.010204, 26.582087]], dtype=float32), 'features': array([[-2.]], dtype=float32)}, 'yvsjCA6Y5Fc[3]': {'intervals': array([[26.582087, 32.60839 ]], dtype=float32), 'features': array([[-0.2]], dtype=float32)}, 'yvsjCA6Y5Fc[4]': {'intervals': array([[32.60839, 34.33447]], dtype=float32), 'features': array([[0.4]], dtype=float32)}, 'yvsjCA6Y5Fc[5]': {'intervals': array([[42.615646, 45.339455]], dtype=float32), 'features': array([[0.]], dtype=float32)}, 'yvsjCA6Y5Fc[6]': {'intervals': array([[45.339455, 46.656464]], dtype=float32), 'features': array([[-1.8]], dtype=float32)}, 'yvsjCA6Y5Fc[7]': {'intervals': array([[46.656464, 52.97211 ]], dtype=float32), 'features': array([[0.4]], dtype=float32)}, 'yvsjCA6Y5Fc[8]': {'intervals': array([[55.626076, 60.28549 ]], dtype=float32), 'features': array([[-1.4]], dtype=float32)}, 'yvsjCA6Y5Fc[9]': {'intervals': array([[60.28549, 68.68639]], dtype=float32), 'features': array([[-2.]], dtype=float32)}, 'yvsjCA6Y5Fc[10]': {'intervals': array([[74.29365, 78.3644 ]], dtype=float32), 'features': array([[2.]], dtype=float32)}, 'yvsjCA6Y5Fc[11]': {'intervals': array([[78.3644  , 88.651024]], dtype=float32), 'features': array([[-0.6]], dtype=float32)}, 'yvsjCA6Y5Fc[12]': {'intervals': array([[92.71179, 96.82245]], dtype=float32), 'features': array([[-2.]], dtype=float32)}, 'yvsjCA6Y5Fc[13]': {'intervals': array([[ 96.82245, 101.21247]], dtype=float32), 'features': array([[-1.]], dtype=float32)}, 'yvsjCA6Y5Fc[14]': {'intervals': array([[101.21247 , 106.719955]], dtype=float32), 'features': array([[-2.]], dtype=float32)}, 'yvsjCA6Y5Fc[15]': {'intervals': array([[106.719955, 123.80113 ]], dtype=float32), 'features': array([[-1.8]], dtype=float32)}, 'yvsjCA6Y5Fc[16]': {'intervals': array([[123.80113, 128.9195 ]], dtype=float32), 'features': array([[-0.6]], dtype=float32)}, 'yvsjCA6Y5Fc[17]': {'intervals': array([[128.9195 , 137.35034]], dtype=float32), 'features': array([[-2.2]], dtype=float32)}, 'yvsjCA6Y5Fc[18]': {'intervals': array([[137.35034, 148.45511]], dtype=float32), 'features': array([[-1.6]], dtype=float32)}, 'yvsjCA6Y5Fc[19]': {'intervals': array([[152.86508, 154.33174]], dtype=float32), 'features': array([[0.8]], dtype=float32)}, 'yvsjCA6Y5Fc[20]': {'intervals': array([[154.33174, 161.82472]], dtype=float32), 'features': array([[-1.8]], dtype=float32)}, 'yvsjCA6Y5Fc[21]': {'intervals': array([[161.82472, 163.51088]], dtype=float32), 'features': array([[-1.6]], dtype=float32)}, 'yvsjCA6Y5Fc[22]': {'intervals': array([[163.51088, 179.84377]], dtype=float32), 'features': array([[-1.2]], dtype=float32)}}\n",
            "                       2WGyTLYerpo[0]            2WGyTLYerpo[1]  \\\n",
            "intervals  [[0.012471655, 2.1376417]]  [[2.1376417, 2.8061225]]   \n",
            "features                      [[2.0]]                   [[0.4]]   \n",
            "\n",
            "                     2WGyTLYerpo[2]             2WGyTLYerpo[3]  \\\n",
            "intervals  [[2.8061225, 7.5752835]]  [[7.5752835, 14.2800455]]   \n",
            "features                    [[0.0]]                   [[-0.4]]   \n",
            "\n",
            "                      2WGyTLYerpo[4]            2WGyTLYerpo[5]  \\\n",
            "intervals  [[14.2800455, 18.091383]]  [[18.091383, 20.007029]]   \n",
            "features                     [[0.0]]                   [[2.4]]   \n",
            "\n",
            "                     2WGyTLYerpo[6]            2WGyTLYerpo[7]  \\\n",
            "intervals  [[20.007029, 21.882767]]  [[21.882767, 23.459183]]   \n",
            "features                    [[1.6]]                   [[1.8]]   \n",
            "\n",
            "                     2WGyTLYerpo[8]           2WGyTLYerpo[9]  ...  \\\n",
            "intervals  [[23.459183, 31.640589]]  [[37.357597, 38.71451]]  ...   \n",
            "features                   [[-0.4]]                  [[0.8]]  ...   \n",
            "\n",
            "                   yvsjCA6Y5Fc[13]            yvsjCA6Y5Fc[14]  \\\n",
            "intervals  [[96.82245, 101.21247]]  [[101.21247, 106.719955]]   \n",
            "features                  [[-1.0]]                   [[-2.0]]   \n",
            "\n",
            "                     yvsjCA6Y5Fc[15]          yvsjCA6Y5Fc[16]  \\\n",
            "intervals  [[106.719955, 123.80113]]  [[123.80113, 128.9195]]   \n",
            "features                    [[-1.8]]                 [[-0.6]]   \n",
            "\n",
            "                   yvsjCA6Y5Fc[17]           yvsjCA6Y5Fc[18]  \\\n",
            "intervals  [[128.9195, 137.35034]]  [[137.35034, 148.45511]]   \n",
            "features                  [[-2.2]]                  [[-1.6]]   \n",
            "\n",
            "                    yvsjCA6Y5Fc[19]           yvsjCA6Y5Fc[20]  \\\n",
            "intervals  [[152.86508, 154.33174]]  [[154.33174, 161.82472]]   \n",
            "features                    [[0.8]]                  [[-1.8]]   \n",
            "\n",
            "                    yvsjCA6Y5Fc[21]           yvsjCA6Y5Fc[22]  \n",
            "intervals  [[161.82472, 163.51088]]  [[163.51088, 179.84377]]  \n",
            "features                   [[-1.6]]                  [[-1.2]]  \n",
            "\n",
            "[2 rows x 220 columns]\n",
            "Columns 'sentiment_score' and 'opinion_segment' not found in DataFrame\n"
          ]
        }
      ]
    },
    {
      "cell_type": "code",
      "source": [
        "import matplotlib.pyplot as plt\n",
        "import numpy as np\n",
        "\n",
        "\n",
        "# Set up the plot\n",
        "plt.figure(figsize=(15, 6))\n",
        "\n",
        "# Loop through the data and plot each interval with its corresponding feature\n",
        "for key, value in data.items():\n",
        "    intervals = value['intervals']\n",
        "    features = value['features']\n",
        "\n",
        "    # Plot intervals\n",
        "    for interval, feature in zip(intervals, features):\n",
        "        plt.plot(interval, [feature[0]]*2, marker='o', linestyle='-', label=f'{key}: {feature[0]}')\n",
        "\n",
        "# Add labels and legend\n",
        "plt.xlabel('Time')\n",
        "plt.ylabel('Feature Value')\n",
        "plt.title('Visualization of Intervals and Features')\n",
        "plt.legend(loc='best')\n",
        "plt.grid(True)\n",
        "\n",
        "# Show plot\n",
        "plt.show()\n"
      ],
      "metadata": {
        "id": "hFnO5dOVr_9W",
        "outputId": "6f0f46c8-0303-43cb-880a-4e764c0abe83",
        "colab": {
          "base_uri": "https://localhost:8080/",
          "height": 366
        }
      },
      "execution_count": null,
      "outputs": [
        {
          "output_type": "display_data",
          "data": {
            "text/plain": [
              "<Figure size 1500x600 with 1 Axes>"
            ],
            "image/png": "[encoded data removed]"
          },
          "metadata": {}
        }
      ]
    }
  ]
}